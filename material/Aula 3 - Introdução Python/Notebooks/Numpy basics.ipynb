{
 "cells": [
  {
   "cell_type": "markdown",
   "metadata": {},
   "source": [
    "# Uniritter\n",
    "\n",
    "<b>Disciplina</b>: Machine Learning I\n",
    "\n",
    "<b>Prof. Nielsen Rechia</b>\n",
    "\n",
    "Introdução de Numpy para ciência de dados"
   ]
  },
  {
   "cell_type": "code",
   "execution_count": 38,
   "metadata": {
    "collapsed": true
   },
   "outputs": [],
   "source": [
    "#encoding utf-8\n",
    "import numpy as np"
   ]
  },
  {
   "cell_type": "code",
   "execution_count": 39,
   "metadata": {},
   "outputs": [
    {
     "name": "stdout",
     "output_type": "stream",
     "text": [
      "<type 'numpy.ndarray'>\n",
      "(3,)\n",
      "10 20 30\n",
      "50\n",
      "(2, 3)\n",
      "10 20 40\n"
     ]
    }
   ],
   "source": [
    "a = np.array([10, 20, 30]) \n",
    "print type(a)           \n",
    "print a.shape         \n",
    "print a[0], a[1], a[2]\n",
    "a[0] = 50\n",
    "print a[0]\n",
    "\n",
    "b = np.array([[10,20,30],[40,50,60]]) \n",
    "print b.shape                    \n",
    "print b[0, 0], b[0, 1], b[1, 0]"
   ]
  },
  {
   "cell_type": "code",
   "execution_count": 40,
   "metadata": {},
   "outputs": [
    {
     "name": "stdout",
     "output_type": "stream",
     "text": [
      "[[ 0.  0.  0.  0.  0.]\n",
      " [ 0.  0.  0.  0.  0.]\n",
      " [ 0.  0.  0.  0.  0.]\n",
      " [ 0.  0.  0.  0.  0.]\n",
      " [ 0.  0.  0.  0.  0.]]\n",
      "[[ 1.  1.]]\n",
      "[[7 7]\n",
      " [7 7]]\n",
      "[[ 1.  0.]\n",
      " [ 0.  1.]]\n",
      "[[ 0.14833466  0.8600226 ]\n",
      " [ 0.00632578  0.3987702 ]]\n"
     ]
    }
   ],
   "source": [
    "zeros = np.zeros((5,5))  # zeros\n",
    "ones = np.ones((1,2)) # uns\n",
    "equals = np.full((2,2), 7)  # replicada\n",
    "identity = np.eye(2)  # identidade \n",
    "randons = np.random.random((2,2))  # randômico\n",
    "\n",
    "print zeros\n",
    "print ones\n",
    "print equals\n",
    "print identity\n",
    "print randons"
   ]
  },
  {
   "cell_type": "code",
   "execution_count": 41,
   "metadata": {},
   "outputs": [
    {
     "name": "stdout",
     "output_type": "stream",
     "text": [
      "[[ 10  20  30  40]\n",
      " [ 50  60  70  80]\n",
      " [ 90 100 110 120]]\n",
      "[[20 30]\n",
      " [60 70]]\n",
      "20\n",
      "[[77 30]\n",
      " [60 70]]\n",
      "77\n"
     ]
    }
   ],
   "source": [
    "a = np.array([[10,20,30,40], [50,60,70,80], [90,100,110,120]])\n",
    "print a\n",
    "\n",
    "b = a[:2, 1:3]\n",
    "print b\n",
    "print a[0, 1]   \n",
    "b[0, 0] = 77\n",
    "print b\n",
    "print a[0, 1]"
   ]
  },
  {
   "cell_type": "code",
   "execution_count": 42,
   "metadata": {},
   "outputs": [
    {
     "name": "stdout",
     "output_type": "stream",
     "text": [
      "[[ 10  20  30  40]\n",
      " [ 50  60  70  80]\n",
      " [ 90 100 110 120]]\n",
      "[50 60 70 80] (4,)\n",
      "[[50 60 70 80]] (1, 4)\n",
      "[ 20  60 100] (3,)\n",
      "[[ 20]\n",
      " [ 60]\n",
      " [100]] (3, 1)\n"
     ]
    }
   ],
   "source": [
    "a = np.array([[10,20,30,40], [50,60,70,80], [90,100,110,120]])\n",
    "print a\n",
    "\n",
    "row1 = a[1, :]     \n",
    "row2 = a[1:2, :]\n",
    "print row1, row1.shape \n",
    "print row2, row2.shape \n",
    "\n",
    "col1 = a[:, 1]\n",
    "col2 = a[:, 1:2]\n",
    "print col1, col1.shape \n",
    "print col2, col2.shape"
   ]
  },
  {
   "cell_type": "code",
   "execution_count": 56,
   "metadata": {},
   "outputs": [
    {
     "name": "stdout",
     "output_type": "stream",
     "text": [
      "[[0 1 2]\n",
      " [3 4 5]\n",
      " [6 7 8]]\n",
      "[[ 0  3  6]\n",
      " [ 9 12 15]\n",
      " [18 21 24]]\n",
      "[[0 0 0]\n",
      " [1 1 1]\n",
      " [2 2 2]]\n",
      "[[ 3  4  5]\n",
      " [ 6  7  8]\n",
      " [ 9 10 11]]\n",
      "[[-3 -2 -1]\n",
      " [ 0  1  2]\n",
      " [ 3  4  5]]\n",
      "[[ 0  1  4]\n",
      " [ 9 16 25]\n",
      " [36 49 64]]\n"
     ]
    }
   ],
   "source": [
    "a = np.arange(3*3).reshape(3,3)\n",
    "print a\n",
    "print a*3\n",
    "print a/3\n",
    "print a+3\n",
    "print a-3\n",
    "print a**2"
   ]
  },
  {
   "cell_type": "code",
   "execution_count": 43,
   "metadata": {},
   "outputs": [
    {
     "name": "stdout",
     "output_type": "stream",
     "text": [
      "[[ 10.  20.]\n",
      " [ 30.  40.]]\n",
      "[[ 50.  60.]\n",
      " [ 70.  80.]]\n",
      "[[  60.   80.]\n",
      " [ 100.  120.]]\n",
      "[[  60.   80.]\n",
      " [ 100.  120.]]\n",
      "[[-40. -40.]\n",
      " [-40. -40.]]\n",
      "[[-40. -40.]\n",
      " [-40. -40.]]\n"
     ]
    }
   ],
   "source": [
    "x = np.array([[10,20],[30,40]], dtype=np.float64)\n",
    "print x\n",
    "y = np.array([[50,60],[70,80]], dtype=np.float64)\n",
    "print y\n",
    "\n",
    "print x + y\n",
    "print np.add(x, y)\n",
    "\n",
    "print x - y\n",
    "print np.subtract(x, y)"
   ]
  },
  {
   "cell_type": "code",
   "execution_count": 44,
   "metadata": {},
   "outputs": [
    {
     "name": "stdout",
     "output_type": "stream",
     "text": [
      "[[ 10.  20.]\n",
      " [ 30.  40.]]\n",
      "[[ 50.  60.]\n",
      " [ 70.  80.]]\n",
      "[[  500.  1200.]\n",
      " [ 2100.  3200.]]\n",
      "[[  500.  1200.]\n",
      " [ 2100.  3200.]]\n",
      "[[ 0.2         0.33333333]\n",
      " [ 0.42857143  0.5       ]]\n",
      "[[ 0.2         0.33333333]\n",
      " [ 0.42857143  0.5       ]]\n",
      "[[ 3.16227766  4.47213595]\n",
      " [ 5.47722558  6.32455532]]\n"
     ]
    }
   ],
   "source": [
    "x = np.array([[10,20],[30,40]], dtype=np.float64)\n",
    "print x\n",
    "y = np.array([[50,60],[70,80]], dtype=np.float64)\n",
    "print y\n",
    "\n",
    "print x * y\n",
    "print np.multiply(x, y)\n",
    "\n",
    "print x / y\n",
    "print np.divide(x, y)\n",
    "print np.sqrt(x)"
   ]
  },
  {
   "cell_type": "code",
   "execution_count": 45,
   "metadata": {},
   "outputs": [
    {
     "name": "stdout",
     "output_type": "stream",
     "text": [
      "[[10 20]\n",
      " [30 40]]\n",
      "[[50 60]\n",
      " [70 80]]\n",
      "[ 90 100]\n",
      "[110 120]\n"
     ]
    }
   ],
   "source": [
    "x = np.array([[10,20],[30,40]])\n",
    "print x\n",
    "y = np.array([[50,60],[70,80]])\n",
    "print y\n",
    "v = np.array([90,100])\n",
    "print v\n",
    "w = np.array([110, 120])\n",
    "print w"
   ]
  },
  {
   "cell_type": "code",
   "execution_count": 46,
   "metadata": {},
   "outputs": [
    {
     "name": "stdout",
     "output_type": "stream",
     "text": [
      "21900\n",
      "21900\n",
      "[2900 6700]\n",
      "[2900 6700]\n",
      "[[1900 2200]\n",
      " [4300 5000]]\n",
      "[[1900 2200]\n",
      " [4300 5000]]\n"
     ]
    }
   ],
   "source": [
    "print v.dot(w)\n",
    "print np.dot(v,w)\n",
    "print x.dot(v)\n",
    "print np.dot(x,v)\n",
    "print x.dot(y)\n",
    "print np.dot(x,y)"
   ]
  },
  {
   "cell_type": "code",
   "execution_count": 47,
   "metadata": {},
   "outputs": [
    {
     "name": "stdout",
     "output_type": "stream",
     "text": [
      "[[10 20]\n",
      " [30 40]]\n",
      "100\n",
      "[40 60]\n",
      "[30 70]\n"
     ]
    }
   ],
   "source": [
    "x = np.array([[10,20], [30,40]])\n",
    "print x\n",
    "\n",
    "print np.sum(x) \n",
    "print np.sum(x, axis=0) \n",
    "print np.sum(x, axis=1)"
   ]
  },
  {
   "cell_type": "code",
   "execution_count": 48,
   "metadata": {},
   "outputs": [
    {
     "name": "stdout",
     "output_type": "stream",
     "text": [
      "[[10 20]\n",
      " [30 40]]\n",
      "[[10 30]\n",
      " [20 40]]\n",
      "[40 50 60]\n",
      "[40 50 60]\n",
      "[[40 50 60]]\n",
      "[[40]\n",
      " [50]\n",
      " [60]]\n"
     ]
    }
   ],
   "source": [
    "x = np.array([[10,20], [30,40]])\n",
    "print x   \n",
    "print x.T \n",
    "\n",
    "v = np.array([40,50,60])\n",
    "print v   \n",
    "print v.T\n",
    "\n",
    "w = np.matrix(v)\n",
    "print w\n",
    "print w.T"
   ]
  },
  {
   "cell_type": "code",
   "execution_count": 49,
   "metadata": {},
   "outputs": [
    {
     "name": "stdout",
     "output_type": "stream",
     "text": [
      "11\n"
     ]
    }
   ],
   "source": [
    "x = np.array([-10, 10, 0, 1, 1, 7, 11, 5, 4, 3])\n",
    "\n",
    "max = np.max(x)\n",
    "print max"
   ]
  },
  {
   "cell_type": "code",
   "execution_count": 51,
   "metadata": {},
   "outputs": [
    {
     "name": "stdout",
     "output_type": "stream",
     "text": [
      "[[10 20 30]\n",
      " [10 20 30]\n",
      " [40 50 60]]\n",
      "[[1 2 3]]\n",
      "[[10 20 30  1]\n",
      " [10 20 30  2]\n",
      " [40 50 60  3]]\n"
     ]
    }
   ],
   "source": [
    "a = np.array([[10, 20, 30]]) \n",
    "b = np.array([[10,20,30],[40,50,60]]) \n",
    "c = np.concatenate((a, b), axis=0)\n",
    "\n",
    "print c\n",
    "\n",
    "d = np.array([[1, 2, 3]])\n",
    "print d\n",
    "e = np.concatenate((c, d.T), axis=1)\n",
    "print e"
   ]
  },
  {
   "cell_type": "code",
   "execution_count": 52,
   "metadata": {},
   "outputs": [
    {
     "name": "stdout",
     "output_type": "stream",
     "text": [
      "[[ 1.]\n",
      " [ 1.]]\n",
      "[[ 0.  0.]\n",
      " [ 0.  0.]]\n",
      "(2, 1)\n",
      "[[ 1.  1.]]\n",
      "[[ 1.  7.]\n",
      " [ 1.  8.]]\n",
      "[[ 0.  0.]\n",
      " [ 0.  0.]\n",
      " [ 1.  2.]\n",
      " [ 3.  4.]]\n"
     ]
    }
   ],
   "source": [
    "a = np.ones((2,1))\n",
    "b = np.zeros((2,2))\n",
    "print a\n",
    "print b\n",
    "print a.shape\n",
    "print a.reshape(1,2)\n",
    "print np.hstack((a,[[7],[8]]))\n",
    "print np.vstack((b,[[1,2],[3,4]]))"
   ]
  }
 ],
 "metadata": {
  "kernelspec": {
   "display_name": "Python 2",
   "language": "python",
   "name": "python2"
  },
  "language_info": {
   "codemirror_mode": {
    "name": "ipython",
    "version": 2
   },
   "file_extension": ".py",
   "mimetype": "text/x-python",
   "name": "python",
   "nbconvert_exporter": "python",
   "pygments_lexer": "ipython2",
   "version": "2.7.15"
  }
 },
 "nbformat": 4,
 "nbformat_minor": 1
}
