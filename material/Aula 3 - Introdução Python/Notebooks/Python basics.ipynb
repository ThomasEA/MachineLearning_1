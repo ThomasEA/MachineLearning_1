{
 "cells": [
  {
   "cell_type": "markdown",
   "metadata": {},
   "source": [
    "# Uniritter\n",
    "\n",
    "<b>Disciplina</b>: Machine Learning I\n",
    "\n",
    "<b>Prof. Nielsen Rechia</b>\n",
    "\n",
    "Introdução ao Python para ciência de dados"
   ]
  },
  {
   "cell_type": "markdown",
   "metadata": {},
   "source": [
    "Exemplo para comparação do Python com outras linguagens"
   ]
  },
  {
   "cell_type": "code",
   "execution_count": 96,
   "metadata": {},
   "outputs": [
    {
     "name": "stdout",
     "output_type": "stream",
     "text": [
      "[1, 1, 2, 3, 6, 8, 10]\n"
     ]
    }
   ],
   "source": [
    "# algoritmo quicksort\n",
    "def quicksort(arr):\n",
    "    if len(arr) <= 1: # verifica tamanho do array\n",
    "        return arr\n",
    "    pivot = arr[len(arr) / 2] # encontra valor na posicao do meio do array\n",
    "    left = [x for x in arr if x < pivot] # para cada valor x dentro do array se o valor x < pivot\n",
    "    middle = [x for x in arr if x == pivot] # para cada valor x dentro do array se o valor x igual pivot\n",
    "    right = [x for x in arr if x > pivot] # para cadava valor x dentro do array se o valor x > pivot\n",
    "    return quicksort(left) + middle + quicksort(right) # retorna chamando quick sort do lado esquerdo \n",
    "                                                       # + meio + quick sort do lado direito\n",
    "    \n",
    "array = [3,6,8,10,1,2,1]\n",
    "print quicksort(array)"
   ]
  },
  {
   "cell_type": "markdown",
   "metadata": {},
   "source": [
    "Tipos de variaveis"
   ]
  },
  {
   "cell_type": "code",
   "execution_count": 97,
   "metadata": {},
   "outputs": [
    {
     "name": "stdout",
     "output_type": "stream",
     "text": [
      "<type 'int'>\n",
      "<type 'float'>\n",
      "<type 'bool'>\n"
     ]
    }
   ],
   "source": [
    "x = 25\n",
    "print type(x) # tipo da variavel\n",
    "y = 5.\n",
    "print type(y)\n",
    "z = False\n",
    "print type(z)"
   ]
  },
  {
   "cell_type": "markdown",
   "metadata": {},
   "source": [
    "Operações matemáticas"
   ]
  },
  {
   "cell_type": "code",
   "execution_count": 98,
   "metadata": {},
   "outputs": [
    {
     "name": "stdout",
     "output_type": "stream",
     "text": [
      "25\n",
      "26\n",
      "24\n",
      "50\n",
      "625\n",
      "26\n",
      "52\n",
      "5.0 6.0 10.0 0\n",
      "False\n"
     ]
    }
   ],
   "source": [
    "print x      \n",
    "print x + 1 \n",
    "print x - 1  \n",
    "print x * 2  \n",
    "print x ** 2\n",
    "x += 1\n",
    "print x \n",
    "x *= 2\n",
    "print x \n",
    "print y, y + 1, y * 2, z ** 2 \n",
    "print z"
   ]
  },
  {
   "cell_type": "code",
   "execution_count": 99,
   "metadata": {
    "scrolled": true
   },
   "outputs": [
    {
     "name": "stdout",
     "output_type": "stream",
     "text": [
      "soma 12\n",
      "subtracao 1\n",
      "multiplicacao 35\n",
      "divisao 1\n",
      "divisao exata 2\n",
      "divisao float 2.5\n",
      "divisao exata 0\n",
      "divisao float 0.4\n",
      "divisao exata 4.0\n",
      "divisao exata 2.0\n",
      "resto divisao 1\n"
     ]
    }
   ],
   "source": [
    "print \"soma\", 5+7\n",
    "print \"subtracao\", 2-1\n",
    "print \"multiplicacao\", 5*7\n",
    "print \"divisao\", 2/2\n",
    "print \"divisao exata\", 5/2\n",
    "print \"divisao float\", 5./2.\n",
    "print \"divisao exata\", 2/5\n",
    "print \"divisao float\", 2/5.\n",
    "print \"divisao exata\", 22.//5\n",
    "print \"divisao exata\", 5.//2.\n",
    "print \"resto divisao\",5%2"
   ]
  },
  {
   "cell_type": "code",
   "execution_count": 100,
   "metadata": {},
   "outputs": [
    {
     "name": "stdout",
     "output_type": "stream",
     "text": [
      "5\n",
      "0\n",
      "-0.0\n",
      "valor absoluto 5\n",
      "valor absoluto 5\n",
      "0.5\n",
      "1.41421356237\n",
      "0.707106781187\n",
      "16\n",
      "256\n"
     ]
    }
   ],
   "source": [
    "print -(-5)\n",
    "print -0\n",
    "print -0.\n",
    "print \"valor absoluto\", abs(5)\n",
    "print \"valor absoluto\", abs(-5)\n",
    "print 2**-1\n",
    "print 2**(1./2.)\n",
    "print 2**(-1./2.)\n",
    "print 2**4\n",
    "print 2**(2*4)"
   ]
  },
  {
   "cell_type": "markdown",
   "metadata": {},
   "source": [
    "Operadores lógicos"
   ]
  },
  {
   "cell_type": "code",
   "execution_count": 101,
   "metadata": {},
   "outputs": [
    {
     "name": "stdout",
     "output_type": "stream",
     "text": [
      "<type 'bool'>\n",
      "False\n",
      "True\n",
      "False\n",
      "True\n"
     ]
    }
   ],
   "source": [
    "t = True\n",
    "f = False\n",
    "print type(t)\n",
    "print t and f\n",
    "print t or f \n",
    "print not t \n",
    "print t != f"
   ]
  },
  {
   "cell_type": "markdown",
   "metadata": {},
   "source": [
    "Manipulação de strings"
   ]
  },
  {
   "cell_type": "code",
   "execution_count": 102,
   "metadata": {},
   "outputs": [
    {
     "name": "stdout",
     "output_type": "stream",
     "text": [
      "ab\n",
      "a\n",
      "b\n",
      "1\n",
      "1\n",
      "None\n",
      "banana!\n",
      "hello\n",
      "Hello\n",
      "bbc\n",
      "1\n"
     ]
    }
   ],
   "source": [
    "print 'a' + 'b' # concatenação\n",
    "\n",
    "print 'ab'[0] # posição 0 da string\n",
    "print 'ab'[1] # posição 1 da string\n",
    "print str(1) # funcao para transformar em string\n",
    "print str('1')\n",
    "print str(None)\n",
    "print 'a'.join('bnn!') #f unção para adicionar entre cada item do vetor\n",
    "print 'HELLO'.lower() # função para manter tudo minusculo\n",
    "print 'hello'.capitalize() # função para capitalizar\n",
    "print 'abc'.replace('a','b') # função para substituir\n",
    "print 'abc'.find('b') # função para identificar posição"
   ]
  },
  {
   "cell_type": "code",
   "execution_count": 103,
   "metadata": {},
   "outputs": [
    {
     "name": "stdout",
     "output_type": "stream",
     "text": [
      "hello\n",
      "5\n",
      "hello world\n",
      "hello world 12\n",
      "helloworld24\n"
     ]
    }
   ],
   "source": [
    "hello = 'hello'  # repare nas aspas!\n",
    "world = \"world\"  \n",
    "print hello      \n",
    "print len(hello) # tamanho do vetor\n",
    "hw = hello + ' ' + world \n",
    "print hw \n",
    "hw12 = '%s %s %d' % (hello, world, 12) \n",
    "print hw12  \n",
    "hw24 = hello + world + str(24)\n",
    "print hw24"
   ]
  },
  {
   "cell_type": "markdown",
   "metadata": {},
   "source": [
    "Vetores (arrays)"
   ]
  },
  {
   "cell_type": "code",
   "execution_count": 104,
   "metadata": {},
   "outputs": [
    {
     "name": "stdout",
     "output_type": "stream",
     "text": [
      "[1, 2, 3, 4, 5, 6, 7, 8, 9]\n",
      "[8, 9]\n",
      "[6, 7, 8, 9]\n",
      "[1, 2, 3, 4, 5]\n",
      "[1, 2, 3, 4, 5, 6, 7, 8, 9]\n",
      "[1, 2, 3, 4, 5, 6, 7, 8]\n",
      "[1, 2, 3, 4, 5, 6, 7, 7, 8]\n"
     ]
    }
   ],
   "source": [
    "nums = range(1,10)  \n",
    "print nums \n",
    "print nums[7:9]  # do 2o (incluso) ao 4o (excluso) \n",
    "print nums[5:]  # do 2o (incluso) até o fim\n",
    "print nums[:5]   # do início ao 2o (excluso)\n",
    "print nums[:]   # do início ao fim\n",
    "print nums[:-1]  # do início ao último (excluso)\n",
    "nums[7:9] = [7, 8]  # atribuição\n",
    "print nums\n"
   ]
  },
  {
   "cell_type": "code",
   "execution_count": 105,
   "metadata": {},
   "outputs": [
    {
     "name": "stdout",
     "output_type": "stream",
     "text": [
      "['a', 'b', 'c']\n",
      "['a', 'b', 'c', 1]\n",
      "['a', 'b', 'c']\n",
      "['a', 'c']\n"
     ]
    }
   ],
   "source": [
    "v = ['a','b','c']\n",
    "print v\n",
    "v.append(1)\n",
    "print v\n",
    "v.remove(1)\n",
    "print v\n",
    "v.pop(1)\n",
    "print v"
   ]
  },
  {
   "cell_type": "code",
   "execution_count": 106,
   "metadata": {},
   "outputs": [
    {
     "name": "stdout",
     "output_type": "stream",
     "text": [
      "['b', 'a', 'c']\n",
      "['a', 'b', 'c']\n",
      "['a', 'b', 'c', 1, 2, 3]\n",
      "[3, 2, 1, 'c', 'b', 'a']\n",
      "[3, 2, 1, 'c', 'b', 'a', 3, 2, 1, 'c', 'b', 'a']\n",
      "[3, 2, 1, 'c', 'b', 'a', 'd', 'e']\n"
     ]
    }
   ],
   "source": [
    "v.insert(0, 'b')\n",
    "print v\n",
    "v.sort()\n",
    "print v\n",
    "v.extend([1,2,3])\n",
    "print v\n",
    "v.reverse()\n",
    "print v\n",
    "v.count('a')\n",
    "print v*2\n",
    "print v + ['d', 'e']"
   ]
  },
  {
   "cell_type": "markdown",
   "metadata": {},
   "source": [
    "Comandos de decisão"
   ]
  },
  {
   "cell_type": "code",
   "execution_count": 107,
   "metadata": {},
   "outputs": [
    {
     "name": "stdout",
     "output_type": "stream",
     "text": [
      "elif\n"
     ]
    }
   ],
   "source": [
    "max = 1\n",
    "if max == 0:\n",
    "    print 'if'\n",
    "elif max >= 1:\n",
    "    print 'elif'\n",
    "else:\n",
    "    print 'else'"
   ]
  },
  {
   "cell_type": "markdown",
   "metadata": {},
   "source": [
    "Laço de repetição"
   ]
  },
  {
   "cell_type": "code",
   "execution_count": 120,
   "metadata": {},
   "outputs": [
    {
     "name": "stdout",
     "output_type": "stream",
     "text": [
      "1\n",
      "2\n",
      "3\n",
      "4\n",
      "5\n",
      "6\n"
     ]
    }
   ],
   "source": [
    "conta = 0\n",
    "while(conta <= 5):\n",
    "    conta += 1\n",
    "    print(conta)"
   ]
  },
  {
   "cell_type": "code",
   "execution_count": 123,
   "metadata": {
    "collapsed": true
   },
   "outputs": [],
   "source": [
    "conta = 0\n",
    "while(conta <= 5):\n",
    "    conta += 1\n",
    "    if conta > 2:\n",
    "        break;"
   ]
  },
  {
   "cell_type": "code",
   "execution_count": 140,
   "metadata": {},
   "outputs": [
    {
     "ename": "SyntaxError",
     "evalue": "invalid syntax (<ipython-input-140-e0c99db30744>, line 2)",
     "output_type": "error",
     "traceback": [
      "\u001b[0;36m  File \u001b[0;32m\"<ipython-input-140-e0c99db30744>\"\u001b[0;36m, line \u001b[0;32m2\u001b[0m\n\u001b[0;31m    do{\u001b[0m\n\u001b[0m      ^\u001b[0m\n\u001b[0;31mSyntaxError\u001b[0m\u001b[0;31m:\u001b[0m invalid syntax\n"
     ]
    }
   ],
   "source": [
    "a = 0\n",
    "do{\n",
    "    a += 1\n",
    "}while(a < 1)\n",
    "\n",
    "print a"
   ]
  },
  {
   "cell_type": "code",
   "execution_count": 108,
   "metadata": {},
   "outputs": [
    {
     "name": "stdout",
     "output_type": "stream",
     "text": [
      "gremio\n",
      "inter\n",
      "brazil\n"
     ]
    }
   ],
   "source": [
    "teams = ['gremio', 'inter', 'brazil']\n",
    "for team in teams:\n",
    "    print team"
   ]
  },
  {
   "cell_type": "code",
   "execution_count": 109,
   "metadata": {},
   "outputs": [
    {
     "name": "stdout",
     "output_type": "stream",
     "text": [
      "[4, 16, 36, 64, 100]\n"
     ]
    }
   ],
   "source": [
    "nums = [2,4,6,8,10]\n",
    "squares = []\n",
    "for x in nums:\n",
    "    squares.append(x ** 2)\n",
    "print squares"
   ]
  },
  {
   "cell_type": "code",
   "execution_count": 110,
   "metadata": {},
   "outputs": [
    {
     "name": "stdout",
     "output_type": "stream",
     "text": [
      "[4, 16, 36, 64, 100]\n"
     ]
    }
   ],
   "source": [
    "nums = [2,4,6,8,10]\n",
    "squares = [x ** 2 for x in nums]\n",
    "print squares"
   ]
  },
  {
   "cell_type": "code",
   "execution_count": 111,
   "metadata": {},
   "outputs": [
    {
     "name": "stdout",
     "output_type": "stream",
     "text": [
      "set([0, 1, 2, 3])\n"
     ]
    }
   ],
   "source": [
    "from math import sqrt\n",
    "nums = {int(sqrt(x)) for x in xrange(10)}  # conjunto (set)\n",
    "print nums"
   ]
  },
  {
   "cell_type": "code",
   "execution_count": 112,
   "metadata": {},
   "outputs": [
    {
     "name": "stdout",
     "output_type": "stream",
     "text": [
      "{(1, 3): 1, (4, 6): 4, (5, 7): 5, (8, 10): 8, (2, 4): 2, (9, 11): 9, (6, 8): 6, (7, 9): 7, (0, 2): 0, (3, 5): 3}\n",
      "<type 'tuple'>\n",
      "6\n",
      "2\n"
     ]
    }
   ],
   "source": [
    "d = {(x, x + 2): x for x in xrange(10)}  # dicionario (dict)\n",
    "print d\n",
    "t = (6, 8)      \n",
    "print type(t)\n",
    "print d[t]      \n",
    "print d[(2, 4)]"
   ]
  },
  {
   "cell_type": "markdown",
   "metadata": {},
   "source": [
    "Funções"
   ]
  },
  {
   "cell_type": "code",
   "execution_count": 113,
   "metadata": {},
   "outputs": [
    {
     "name": "stdout",
     "output_type": "stream",
     "text": [
      "negative\n",
      "zero\n",
      "positive\n"
     ]
    }
   ],
   "source": [
    "def sign(x):\n",
    "    if x > 0:\n",
    "        return 'positive'\n",
    "    elif x < 0:\n",
    "        return 'negative'\n",
    "    else:\n",
    "        return 'zero'\n",
    "\n",
    "for x in [-10, 0, 10]:\n",
    "    print sign(x)"
   ]
  },
  {
   "cell_type": "code",
   "execution_count": 114,
   "metadata": {},
   "outputs": [
    {
     "name": "stdout",
     "output_type": "stream",
     "text": [
      "even\n"
     ]
    }
   ],
   "source": [
    "def ver(list, n):\n",
    "    if n % 2 == 0:\n",
    "        return 'odd'\n",
    "    else:\n",
    "        return 'even'\n",
    "        \n",
    "n = 3\n",
    "print ver(list, n)"
   ]
  },
  {
   "cell_type": "code",
   "execution_count": 115,
   "metadata": {},
   "outputs": [
    {
     "name": "stdout",
     "output_type": "stream",
     "text": [
      "11\n"
     ]
    }
   ],
   "source": [
    "def ver(list, big):\n",
    "    for val in list:\n",
    "        if big == False:\n",
    "            big = val\n",
    "        elif val > big:\n",
    "            big = val\n",
    "    return big\n",
    "        \n",
    "list = [-10,10,0,1,1,7,11,5,4,3]\n",
    "big = False\n",
    "print ver(list, big)"
   ]
  },
  {
   "cell_type": "code",
   "execution_count": 116,
   "metadata": {},
   "outputs": [
    {
     "name": "stdout",
     "output_type": "stream",
     "text": [
      "32\n"
     ]
    }
   ],
   "source": [
    "def soma(lista):\n",
    "    s = 0\n",
    "    for val in lista:\n",
    "        s += val\n",
    "    return s\n",
    "\n",
    "lista = [-10,10,0,1,1,7,11,5,4,3]\n",
    "print soma(lista)"
   ]
  },
  {
   "cell_type": "markdown",
   "metadata": {},
   "source": [
    "Fibonacci"
   ]
  },
  {
   "cell_type": "code",
   "execution_count": 117,
   "metadata": {},
   "outputs": [
    {
     "name": "stdout",
     "output_type": "stream",
     "text": [
      "[0, 1, 1, 2, 3, 5, 8, 13, 21, 34, 55]\n"
     ]
    }
   ],
   "source": [
    "def fibonacci(m):\n",
    "    if m == 0:\n",
    "        return 0\n",
    "    if m == 1:\n",
    "        return 1\n",
    "    if m > 1:\n",
    "        for x in range(0,m+1):\n",
    "            if x == 0:\n",
    "                n2 = 0\n",
    "                sum1 = 0\n",
    "            if x == 1:\n",
    "                n1 = 1\n",
    "                sum2 = 1\n",
    "            if x > 1:\n",
    "                s = sum1 + sum2\n",
    "                sum1 = sum2\n",
    "                sum2 = s\n",
    "\n",
    "    return s\n",
    "\n",
    "print [fibonacci(x) for x in range(0, 11)]"
   ]
  },
  {
   "cell_type": "code",
   "execution_count": 118,
   "metadata": {},
   "outputs": [
    {
     "name": "stdout",
     "output_type": "stream",
     "text": [
      "5 bottle of beer on the wall, 5, bottle of beer. Take one down and pass it around, no more bottles of beer on the wall. 4 bottle of beer on the wall, 4, bottle of beer. Take one down and pass it around, no more bottles of beer on the wall. 3 bottle of beer on the wall, 3, bottle of beer. Take one down and pass it around, no more bottles of beer on the wall. 2 bottle of beer on the wall, 2, bottle of beer. Take one down and pass it around, no more bottles of beer on the wall. 1 bottle of beer on the wall, 1 bottle of beer. Take one down and pass it around, no more bottles of beer on the wall. No more bottles of beer on the wall, no more bottles of beer. Go to the store and buy some more, 99 bottles of beer on the wall.\n"
     ]
    }
   ],
   "source": [
    "def sing(num):\n",
    "    a = ''\n",
    "    if num == 0:\n",
    "        a.append(\"No more bottles of beer on the wall, no more bottles of beer. Go to the store and buy some more, 99 bottles of beer on the wall.\")\n",
    "\n",
    "    if num == 1:\n",
    "        a.append(\"1 bottle of beer on the wall, 1 bottle of beer. Take one down and pass it around, no more bottles of beer on the wall. No more bottles of beer on the wall, no more bottles of beer. Go to the store and buy some more, 99 bottles of beer on the wall.\")\n",
    "\n",
    "    if num > 1:\n",
    "        for x in range(2,num+1):\n",
    "            a = str(x) + \" bottle of beer on the wall, \" + str(x) + \", bottle of beer. Take one down and pass it around, no more bottles of beer on the wall. \" + a\n",
    "\n",
    "        a = a + \"1 bottle of beer on the wall, 1 bottle of beer. Take one down and pass it around, no more bottles of beer on the wall. No more bottles of beer on the wall, no more bottles of beer. Go to the store and buy some more, 99 bottles of beer on the wall.\"\n",
    "\n",
    "    return a\n",
    "\n",
    "print sing(5)"
   ]
  }
 ],
 "metadata": {
  "anaconda-cloud": {},
  "kernelspec": {
   "display_name": "Python 2",
   "language": "python",
   "name": "python2"
  },
  "language_info": {
   "codemirror_mode": {
    "name": "ipython",
    "version": 2
   },
   "file_extension": ".py",
   "mimetype": "text/x-python",
   "name": "python",
   "nbconvert_exporter": "python",
   "pygments_lexer": "ipython2",
   "version": "2.7.14"
  }
 },
 "nbformat": 4,
 "nbformat_minor": 1
}
