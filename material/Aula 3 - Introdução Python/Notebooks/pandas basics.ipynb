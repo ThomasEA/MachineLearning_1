{
 "cells": [
  {
   "cell_type": "markdown",
   "metadata": {},
   "source": [
    "# Uniritter\n",
    "\n",
    "<b>Disciplina</b>: Machine Learning I\n",
    "\n",
    "<b>Prof. Nielsen Rechia</b>\n",
    "\n",
    "Introdução de Pandas para ciência de dados"
   ]
  },
  {
   "cell_type": "code",
   "execution_count": 57,
   "metadata": {
    "collapsed": true
   },
   "outputs": [],
   "source": [
    "import pandas as pd\n",
    "import numpy as np\n",
    "from matplotlib import pyplot as plt"
   ]
  },
  {
   "cell_type": "code",
   "execution_count": 58,
   "metadata": {},
   "outputs": [
    {
     "name": "stdout",
     "output_type": "stream",
     "text": [
      "0    1.0\n",
      "1    3.0\n",
      "2    5.0\n",
      "3    NaN\n",
      "4    6.0\n",
      "5    8.0\n",
      "dtype: float64\n"
     ]
    }
   ],
   "source": [
    "import matplotlib.pyplot as plt\n",
    "\n",
    "s = pd.Series([1,3,5,np.nan,6,8])\n",
    "print s"
   ]
  },
  {
   "cell_type": "code",
   "execution_count": 59,
   "metadata": {},
   "outputs": [
    {
     "name": "stdout",
     "output_type": "stream",
     "text": [
      "DatetimeIndex(['2013-01-01', '2013-01-02', '2013-01-03', '2013-01-04',\n",
      "               '2013-01-05', '2013-01-06'],\n",
      "              dtype='datetime64[ns]', freq='D')\n",
      "                   A         B         C         D\n",
      "2013-01-01  0.476862 -1.003202  0.111495  1.059805\n",
      "2013-01-02  0.036389  1.590169  1.367494 -1.359805\n",
      "2013-01-03 -1.243335 -1.263661 -2.499836  0.951542\n",
      "2013-01-04  1.409049  0.553354  1.553552 -0.170681\n",
      "2013-01-05 -0.554002 -0.124725  0.864740 -1.033730\n",
      "2013-01-06  1.117886 -0.336977  0.157986  1.055153\n"
     ]
    }
   ],
   "source": [
    "dates = pd.date_range('20130101', periods=6)\n",
    "print dates\n",
    "\n",
    "df = pd.DataFrame(np.random.randn(6,4), index=dates, columns=list('ABCD'))\n",
    "print df"
   ]
  },
  {
   "cell_type": "code",
   "execution_count": 60,
   "metadata": {},
   "outputs": [
    {
     "name": "stdout",
     "output_type": "stream",
     "text": [
      "                   A         B         C         D\n",
      "2013-01-01  0.476862 -1.003202  0.111495  1.059805\n",
      "2013-01-02  0.036389  1.590169  1.367494 -1.359805\n",
      "2013-01-03 -1.243335 -1.263661 -2.499836  0.951542\n",
      "2013-01-04  1.409049  0.553354  1.553552 -0.170681\n",
      "2013-01-05 -0.554002 -0.124725  0.864740 -1.033730\n",
      "                   A         B         C         D\n",
      "2013-01-04  1.409049  0.553354  1.553552 -0.170681\n",
      "2013-01-05 -0.554002 -0.124725  0.864740 -1.033730\n",
      "2013-01-06  1.117886 -0.336977  0.157986  1.055153\n",
      "DatetimeIndex(['2013-01-01', '2013-01-02', '2013-01-03', '2013-01-04',\n",
      "               '2013-01-05', '2013-01-06'],\n",
      "              dtype='datetime64[ns]', freq='D')\n",
      "Index([u'A', u'B', u'C', u'D'], dtype='object')\n",
      "[[ 0.47686243 -1.00320198  0.1114946   1.05980501]\n",
      " [ 0.03638859  1.59016943  1.36749416 -1.35980528]\n",
      " [-1.24333501 -1.26366148 -2.49983593  0.95154249]\n",
      " [ 1.40904882  0.55335402  1.55355228 -0.17068113]\n",
      " [-0.55400248 -0.12472496  0.86473974 -1.03373025]\n",
      " [ 1.11788626 -0.33697659  0.15798564  1.05515325]]\n"
     ]
    }
   ],
   "source": [
    "print df.head() # primeiros n-1\n",
    "print df.tail(3) # ultimos 3\n",
    "print df.index # linhas\n",
    "print df.columns # colunas\n",
    "print df.values # matrix"
   ]
  },
  {
   "cell_type": "code",
   "execution_count": 61,
   "metadata": {},
   "outputs": [
    {
     "name": "stdout",
     "output_type": "stream",
     "text": [
      "              A         B         C         D\n",
      "count  6.000000  6.000000  6.000000  6.000000\n",
      "mean   0.207141 -0.097507  0.259238  0.083714\n",
      "std    1.005899  1.049777  1.477476  1.099702\n",
      "min   -1.243335 -1.263661 -2.499836 -1.359805\n",
      "25%   -0.406405 -0.836646  0.123117 -0.817968\n",
      "50%    0.256626 -0.230851  0.511363  0.390431\n",
      "75%    0.957630  0.383834  1.241806  1.029251\n",
      "max    1.409049  1.590169  1.553552  1.059805\n",
      "   2013-01-01  2013-01-02  2013-01-03  2013-01-04  2013-01-05  2013-01-06\n",
      "A    0.476862    0.036389   -1.243335    1.409049   -0.554002    1.117886\n",
      "B   -1.003202    1.590169   -1.263661    0.553354   -0.124725   -0.336977\n",
      "C    0.111495    1.367494   -2.499836    1.553552    0.864740    0.157986\n",
      "D    1.059805   -1.359805    0.951542   -0.170681   -1.033730    1.055153\n",
      "                   D         C         B         A\n",
      "2013-01-01  1.059805  0.111495 -1.003202  0.476862\n",
      "2013-01-02 -1.359805  1.367494  1.590169  0.036389\n",
      "2013-01-03  0.951542 -2.499836 -1.263661 -1.243335\n",
      "2013-01-04 -0.170681  1.553552  0.553354  1.409049\n",
      "2013-01-05 -1.033730  0.864740 -0.124725 -0.554002\n",
      "2013-01-06  1.055153  0.157986 -0.336977  1.117886\n",
      "                   A         B         C         D\n",
      "2013-01-03 -1.243335 -1.263661 -2.499836  0.951542\n",
      "2013-01-01  0.476862 -1.003202  0.111495  1.059805\n",
      "2013-01-06  1.117886 -0.336977  0.157986  1.055153\n",
      "2013-01-05 -0.554002 -0.124725  0.864740 -1.033730\n",
      "2013-01-04  1.409049  0.553354  1.553552 -0.170681\n",
      "2013-01-02  0.036389  1.590169  1.367494 -1.359805\n"
     ]
    }
   ],
   "source": [
    "print df.describe() # sumário\n",
    "print df.T # transposta\n",
    "print df.sort_index(axis=1, ascending=False) #ordenar pelas colunas decrescente\n",
    "print df.sort_values(by='B') #ordernar pela coluna B crescente"
   ]
  },
  {
   "cell_type": "code",
   "execution_count": 62,
   "metadata": {},
   "outputs": [
    {
     "name": "stdout",
     "output_type": "stream",
     "text": [
      "2013-01-01    0.476862\n",
      "2013-01-02    0.036389\n",
      "2013-01-03   -1.243335\n",
      "2013-01-04    1.409049\n",
      "2013-01-05   -0.554002\n",
      "2013-01-06    1.117886\n",
      "Freq: D, Name: A, dtype: float64\n",
      "                   A         B         C         D\n",
      "2013-01-01  0.476862 -1.003202  0.111495  1.059805\n",
      "2013-01-02  0.036389  1.590169  1.367494 -1.359805\n",
      "2013-01-03 -1.243335 -1.263661 -2.499836  0.951542\n",
      "A    0.476862\n",
      "B   -1.003202\n",
      "C    0.111495\n",
      "D    1.059805\n",
      "Name: 2013-01-01 00:00:00, dtype: float64\n",
      "                   A         B\n",
      "2013-01-01  0.476862 -1.003202\n",
      "2013-01-02  0.036389  1.590169\n",
      "2013-01-03 -1.243335 -1.263661\n",
      "2013-01-04  1.409049  0.553354\n",
      "2013-01-05 -0.554002 -0.124725\n",
      "2013-01-06  1.117886 -0.336977\n",
      "                   A         B\n",
      "2013-01-02  0.036389  1.590169\n",
      "2013-01-03 -1.243335 -1.263661\n",
      "2013-01-04  1.409049  0.553354\n",
      "A    0.036389\n",
      "B    1.590169\n",
      "Name: 2013-01-02 00:00:00, dtype: float64\n"
     ]
    }
   ],
   "source": [
    "print df['A']\n",
    "print df[0:3]\n",
    "print df.loc[dates[0]]\n",
    "print df.loc[:,['A','B']]\n",
    "print df.loc['20130102':'20130104',['A','B']]\n",
    "print df.loc['20130102',['A','B']]"
   ]
  },
  {
   "cell_type": "code",
   "execution_count": 63,
   "metadata": {},
   "outputs": [
    {
     "name": "stdout",
     "output_type": "stream",
     "text": [
      "0.476862427567\n",
      "A    1.409049\n",
      "B    0.553354\n",
      "C    1.553552\n",
      "D   -0.170681\n",
      "Name: 2013-01-04 00:00:00, dtype: float64\n",
      "                   A         B\n",
      "2013-01-04  1.409049  0.553354\n",
      "2013-01-05 -0.554002 -0.124725\n",
      "                   A         C\n",
      "2013-01-02  0.036389  1.367494\n",
      "2013-01-03 -1.243335 -2.499836\n",
      "2013-01-05 -0.554002  0.864740\n",
      "                   A         B         C         D\n",
      "2013-01-02  0.036389  1.590169  1.367494 -1.359805\n",
      "2013-01-03 -1.243335 -1.263661 -2.499836  0.951542\n",
      "                   B         C\n",
      "2013-01-01 -1.003202  0.111495\n",
      "2013-01-02  1.590169  1.367494\n",
      "2013-01-03 -1.263661 -2.499836\n",
      "2013-01-04  0.553354  1.553552\n",
      "2013-01-05 -0.124725  0.864740\n",
      "2013-01-06 -0.336977  0.157986\n",
      "1.59016943159\n",
      "                   A         B         C         D\n",
      "2013-01-01  0.476862 -1.003202  0.111495  1.059805\n",
      "2013-01-02  0.036389  1.590169  1.367494 -1.359805\n",
      "2013-01-04  1.409049  0.553354  1.553552 -0.170681\n",
      "2013-01-06  1.117886 -0.336977  0.157986  1.055153\n",
      "                   A         B         C         D\n",
      "2013-01-01  0.476862       NaN  0.111495  1.059805\n",
      "2013-01-02  0.036389  1.590169  1.367494       NaN\n",
      "2013-01-03       NaN       NaN       NaN  0.951542\n",
      "2013-01-04  1.409049  0.553354  1.553552       NaN\n",
      "2013-01-05       NaN       NaN  0.864740       NaN\n",
      "2013-01-06  1.117886       NaN  0.157986  1.055153\n"
     ]
    }
   ],
   "source": [
    "print df.loc[dates[0],'A']\n",
    "print df.iloc[3]\n",
    "print df.iloc[3:5,0:2]\n",
    "print df.iloc[[1,2,4],[0,2]]\n",
    "print df.iloc[1:3,:]\n",
    "print df.iloc[:,1:3]\n",
    "print df.iloc[1,1] # igual df.iat[1,1]\n",
    "print df[df.A > 0]\n",
    "print df[df > 0]"
   ]
  },
  {
   "cell_type": "code",
   "execution_count": 64,
   "metadata": {},
   "outputs": [
    {
     "name": "stdout",
     "output_type": "stream",
     "text": [
      "                   A         B         C         D\n",
      "2013-01-01  0.476862 -1.003202  0.111495  1.059805\n",
      "2013-01-02  0.036389  1.590169  1.367494 -1.359805\n",
      "2013-01-03 -1.243335 -1.263661 -2.499836  0.951542\n",
      "2013-01-04  1.409049  0.553354  1.553552 -0.170681\n",
      "2013-01-05 -0.554002 -0.124725  0.864740 -1.033730\n",
      "2013-01-06  1.117886 -0.336977  0.157986  1.055153\n",
      "                   A         B         C         D      E\n",
      "2013-01-01  0.476862 -1.003202  0.111495  1.059805    one\n",
      "2013-01-02  0.036389  1.590169  1.367494 -1.359805    one\n",
      "2013-01-03 -1.243335 -1.263661 -2.499836  0.951542    two\n",
      "2013-01-04  1.409049  0.553354  1.553552 -0.170681  three\n",
      "2013-01-05 -0.554002 -0.124725  0.864740 -1.033730   four\n",
      "2013-01-06  1.117886 -0.336977  0.157986  1.055153  three\n",
      "                   A         B         C         D     E\n",
      "2013-01-03 -1.243335 -1.263661 -2.499836  0.951542   two\n",
      "2013-01-05 -0.554002 -0.124725  0.864740 -1.033730  four\n"
     ]
    }
   ],
   "source": [
    "df2 = df.copy()\n",
    "print df2\n",
    "df2['E'] = ['one', 'one','two','three','four','three']\n",
    "print df2\n",
    "print df2[df2['E'].isin(['two','four'])]"
   ]
  },
  {
   "cell_type": "code",
   "execution_count": 65,
   "metadata": {},
   "outputs": [
    {
     "data": {
      "text/plain": [
       "A    0.207141\n",
       "B   -0.097507\n",
       "C    0.259238\n",
       "D    0.083714\n",
       "dtype: float64"
      ]
     },
     "execution_count": 65,
     "metadata": {},
     "output_type": "execute_result"
    }
   ],
   "source": [
    "df.mean()"
   ]
  },
  {
   "cell_type": "code",
   "execution_count": 66,
   "metadata": {},
   "outputs": [
    {
     "data": {
      "text/plain": [
       "2013-01-01    0.161240\n",
       "2013-01-02    0.408562\n",
       "2013-01-03   -1.013822\n",
       "2013-01-04    0.836318\n",
       "2013-01-05   -0.211929\n",
       "2013-01-06    0.498512\n",
       "Freq: D, dtype: float64"
      ]
     },
     "execution_count": 66,
     "metadata": {},
     "output_type": "execute_result"
    }
   ],
   "source": [
    "df.mean(1)"
   ]
  },
  {
   "cell_type": "code",
   "execution_count": 67,
   "metadata": {},
   "outputs": [
    {
     "data": {
      "text/html": [
       "<div>\n",
       "<style scoped>\n",
       "    .dataframe tbody tr th:only-of-type {\n",
       "        vertical-align: middle;\n",
       "    }\n",
       "\n",
       "    .dataframe tbody tr th {\n",
       "        vertical-align: top;\n",
       "    }\n",
       "\n",
       "    .dataframe thead th {\n",
       "        text-align: right;\n",
       "    }\n",
       "</style>\n",
       "<table border=\"1\" class=\"dataframe\">\n",
       "  <thead>\n",
       "    <tr style=\"text-align: right;\">\n",
       "      <th></th>\n",
       "      <th>A</th>\n",
       "      <th>B</th>\n",
       "      <th>C</th>\n",
       "      <th>D</th>\n",
       "    </tr>\n",
       "  </thead>\n",
       "  <tbody>\n",
       "    <tr>\n",
       "      <th>2013-01-01</th>\n",
       "      <td>0.476862</td>\n",
       "      <td>-1.003202</td>\n",
       "      <td>0.111495</td>\n",
       "      <td>1.059805</td>\n",
       "    </tr>\n",
       "    <tr>\n",
       "      <th>2013-01-02</th>\n",
       "      <td>0.513251</td>\n",
       "      <td>0.586967</td>\n",
       "      <td>1.478989</td>\n",
       "      <td>-0.300000</td>\n",
       "    </tr>\n",
       "    <tr>\n",
       "      <th>2013-01-03</th>\n",
       "      <td>-0.730084</td>\n",
       "      <td>-0.676694</td>\n",
       "      <td>-1.020847</td>\n",
       "      <td>0.651542</td>\n",
       "    </tr>\n",
       "    <tr>\n",
       "      <th>2013-01-04</th>\n",
       "      <td>0.678965</td>\n",
       "      <td>-0.123340</td>\n",
       "      <td>0.532705</td>\n",
       "      <td>0.480861</td>\n",
       "    </tr>\n",
       "    <tr>\n",
       "      <th>2013-01-05</th>\n",
       "      <td>0.124962</td>\n",
       "      <td>-0.248065</td>\n",
       "      <td>1.397445</td>\n",
       "      <td>-0.552869</td>\n",
       "    </tr>\n",
       "    <tr>\n",
       "      <th>2013-01-06</th>\n",
       "      <td>1.242849</td>\n",
       "      <td>-0.585042</td>\n",
       "      <td>1.555430</td>\n",
       "      <td>0.502284</td>\n",
       "    </tr>\n",
       "  </tbody>\n",
       "</table>\n",
       "</div>"
      ],
      "text/plain": [
       "                   A         B         C         D\n",
       "2013-01-01  0.476862 -1.003202  0.111495  1.059805\n",
       "2013-01-02  0.513251  0.586967  1.478989 -0.300000\n",
       "2013-01-03 -0.730084 -0.676694 -1.020847  0.651542\n",
       "2013-01-04  0.678965 -0.123340  0.532705  0.480861\n",
       "2013-01-05  0.124962 -0.248065  1.397445 -0.552869\n",
       "2013-01-06  1.242849 -0.585042  1.555430  0.502284"
      ]
     },
     "execution_count": 67,
     "metadata": {},
     "output_type": "execute_result"
    }
   ],
   "source": [
    "df.apply(np.cumsum)"
   ]
  },
  {
   "cell_type": "code",
   "execution_count": 68,
   "metadata": {},
   "outputs": [
    {
     "name": "stdout",
     "output_type": "stream",
     "text": [
      "0    1\n",
      "1    6\n",
      "2    6\n",
      "3    2\n",
      "4    4\n",
      "5    4\n",
      "6    4\n",
      "7    5\n",
      "8    0\n",
      "9    5\n",
      "dtype: int64\n"
     ]
    },
    {
     "data": {
      "text/plain": [
       "4    3\n",
       "6    2\n",
       "5    2\n",
       "2    1\n",
       "1    1\n",
       "0    1\n",
       "dtype: int64"
      ]
     },
     "execution_count": 68,
     "metadata": {},
     "output_type": "execute_result"
    }
   ],
   "source": [
    "s = pd.Series(np.random.randint(0, 7, size=10))\n",
    "print s\n",
    "s.value_counts()"
   ]
  },
  {
   "cell_type": "code",
   "execution_count": 69,
   "metadata": {},
   "outputs": [
    {
     "name": "stdout",
     "output_type": "stream",
     "text": [
      "     A      B         C         D\n",
      "0  foo    one -0.977165  0.595699\n",
      "1  bar    one  0.629838 -0.625143\n",
      "2  foo    two  1.195580  1.878518\n",
      "3  bar  three  2.729314  0.019213\n",
      "4  foo    two  0.580785  0.250382\n",
      "5  bar    two  0.088483 -0.318594\n",
      "6  foo    one -0.827195  0.248770\n",
      "7  foo  three -0.670801  0.145013\n",
      "            C         D\n",
      "A                      \n",
      "bar  3.447635 -0.924524\n",
      "foo -0.698796  3.118381\n"
     ]
    }
   ],
   "source": [
    "df = pd.DataFrame({'A' : ['foo', 'bar', 'foo', 'bar',\n",
    "                              'foo', 'bar', 'foo', 'foo'],\n",
    "                       'B' : ['one', 'one', 'two', 'three',\n",
    "                              'two', 'two', 'one', 'three'],\n",
    "                       'C' : np.random.randn(8),\n",
    "                       'D' : np.random.randn(8)})\n",
    "print df\n",
    "print df.groupby('A').sum()"
   ]
  },
  {
   "cell_type": "code",
   "execution_count": 70,
   "metadata": {},
   "outputs": [
    {
     "name": "stdout",
     "output_type": "stream",
     "text": [
      "                  C         D\n",
      "A   B                        \n",
      "bar one    0.629838 -0.625143\n",
      "    three  2.729314  0.019213\n",
      "    two    0.088483 -0.318594\n",
      "foo one   -1.804360  0.844468\n",
      "    three -0.670801  0.145013\n",
      "    two    1.776365  2.128900\n"
     ]
    }
   ],
   "source": [
    "print df.groupby(['A','B']).sum()"
   ]
  },
  {
   "cell_type": "code",
   "execution_count": 71,
   "metadata": {},
   "outputs": [
    {
     "name": "stdout",
     "output_type": "stream",
     "text": [
      "2000-01-01   -0.953083\n",
      "2000-01-02   -0.916528\n",
      "2000-01-03    0.917367\n",
      "2000-01-04   -1.609308\n",
      "2000-01-05    0.557519\n",
      "Freq: D, dtype: float64\n",
      "2000-01-01   -0.953083\n",
      "2000-01-02   -1.869611\n",
      "2000-01-03   -0.952244\n",
      "2000-01-04   -2.561553\n",
      "2000-01-05   -2.004033\n",
      "Freq: D, dtype: float64\n"
     ]
    }
   ],
   "source": [
    "ts = pd.Series(np.random.randn(1000), index=pd.date_range('1/1/2000', periods=1000))\n",
    "print ts.head()\n",
    "ts = ts.cumsum()\n",
    "print ts.head()"
   ]
  },
  {
   "cell_type": "code",
   "execution_count": 72,
   "metadata": {},
   "outputs": [
    {
     "data": {
      "image/png": "[encoded data removed]",
      "text/plain": [
       "<matplotlib.figure.Figure at 0x113978a90>"
      ]
     },
     "metadata": {},
     "output_type": "display_data"
    }
   ],
   "source": [
    "ts.plot()\n",
    "plt.show()"
   ]
  },
  {
   "cell_type": "code",
   "execution_count": 73,
   "metadata": {},
   "outputs": [
    {
     "data": {
      "text/html": [
       "<div>\n",
       "<style scoped>\n",
       "    .dataframe tbody tr th:only-of-type {\n",
       "        vertical-align: middle;\n",
       "    }\n",
       "\n",
       "    .dataframe tbody tr th {\n",
       "        vertical-align: top;\n",
       "    }\n",
       "\n",
       "    .dataframe thead th {\n",
       "        text-align: right;\n",
       "    }\n",
       "</style>\n",
       "<table border=\"1\" class=\"dataframe\">\n",
       "  <thead>\n",
       "    <tr style=\"text-align: right;\">\n",
       "      <th></th>\n",
       "      <th>Unnamed: 0</th>\n",
       "      <th>A</th>\n",
       "      <th>B</th>\n",
       "      <th>C</th>\n",
       "      <th>D</th>\n",
       "    </tr>\n",
       "  </thead>\n",
       "  <tbody>\n",
       "    <tr>\n",
       "      <th>0</th>\n",
       "      <td>0</td>\n",
       "      <td>foo</td>\n",
       "      <td>one</td>\n",
       "      <td>-0.977165</td>\n",
       "      <td>0.595699</td>\n",
       "    </tr>\n",
       "    <tr>\n",
       "      <th>1</th>\n",
       "      <td>1</td>\n",
       "      <td>bar</td>\n",
       "      <td>one</td>\n",
       "      <td>0.629838</td>\n",
       "      <td>-0.625143</td>\n",
       "    </tr>\n",
       "    <tr>\n",
       "      <th>2</th>\n",
       "      <td>2</td>\n",
       "      <td>foo</td>\n",
       "      <td>two</td>\n",
       "      <td>1.195580</td>\n",
       "      <td>1.878518</td>\n",
       "    </tr>\n",
       "    <tr>\n",
       "      <th>3</th>\n",
       "      <td>3</td>\n",
       "      <td>bar</td>\n",
       "      <td>three</td>\n",
       "      <td>2.729314</td>\n",
       "      <td>0.019213</td>\n",
       "    </tr>\n",
       "    <tr>\n",
       "      <th>4</th>\n",
       "      <td>4</td>\n",
       "      <td>foo</td>\n",
       "      <td>two</td>\n",
       "      <td>0.580785</td>\n",
       "      <td>0.250382</td>\n",
       "    </tr>\n",
       "    <tr>\n",
       "      <th>5</th>\n",
       "      <td>5</td>\n",
       "      <td>bar</td>\n",
       "      <td>two</td>\n",
       "      <td>0.088483</td>\n",
       "      <td>-0.318594</td>\n",
       "    </tr>\n",
       "    <tr>\n",
       "      <th>6</th>\n",
       "      <td>6</td>\n",
       "      <td>foo</td>\n",
       "      <td>one</td>\n",
       "      <td>-0.827195</td>\n",
       "      <td>0.248770</td>\n",
       "    </tr>\n",
       "    <tr>\n",
       "      <th>7</th>\n",
       "      <td>7</td>\n",
       "      <td>foo</td>\n",
       "      <td>three</td>\n",
       "      <td>-0.670801</td>\n",
       "      <td>0.145013</td>\n",
       "    </tr>\n",
       "  </tbody>\n",
       "</table>\n",
       "</div>"
      ],
      "text/plain": [
       "   Unnamed: 0    A      B         C         D\n",
       "0           0  foo    one -0.977165  0.595699\n",
       "1           1  bar    one  0.629838 -0.625143\n",
       "2           2  foo    two  1.195580  1.878518\n",
       "3           3  bar  three  2.729314  0.019213\n",
       "4           4  foo    two  0.580785  0.250382\n",
       "5           5  bar    two  0.088483 -0.318594\n",
       "6           6  foo    one -0.827195  0.248770\n",
       "7           7  foo  three -0.670801  0.145013"
      ]
     },
     "execution_count": 73,
     "metadata": {},
     "output_type": "execute_result"
    }
   ],
   "source": [
    "df.to_csv('foo.csv')\n",
    "pd.read_csv('foo.csv')"
   ]
  },
  {
   "cell_type": "code",
   "execution_count": 74,
   "metadata": {},
   "outputs": [
    {
     "data": {
      "text/html": [
       "<div>\n",
       "<style scoped>\n",
       "    .dataframe tbody tr th:only-of-type {\n",
       "        vertical-align: middle;\n",
       "    }\n",
       "\n",
       "    .dataframe tbody tr th {\n",
       "        vertical-align: top;\n",
       "    }\n",
       "\n",
       "    .dataframe thead th {\n",
       "        text-align: right;\n",
       "    }\n",
       "</style>\n",
       "<table border=\"1\" class=\"dataframe\">\n",
       "  <thead>\n",
       "    <tr style=\"text-align: right;\">\n",
       "      <th></th>\n",
       "      <th>A</th>\n",
       "      <th>B</th>\n",
       "      <th>C</th>\n",
       "      <th>D</th>\n",
       "    </tr>\n",
       "  </thead>\n",
       "  <tbody>\n",
       "    <tr>\n",
       "      <th>0</th>\n",
       "      <td>foo</td>\n",
       "      <td>one</td>\n",
       "      <td>-0.977165</td>\n",
       "      <td>0.595699</td>\n",
       "    </tr>\n",
       "    <tr>\n",
       "      <th>1</th>\n",
       "      <td>bar</td>\n",
       "      <td>one</td>\n",
       "      <td>0.629838</td>\n",
       "      <td>-0.625143</td>\n",
       "    </tr>\n",
       "    <tr>\n",
       "      <th>2</th>\n",
       "      <td>foo</td>\n",
       "      <td>two</td>\n",
       "      <td>1.195580</td>\n",
       "      <td>1.878518</td>\n",
       "    </tr>\n",
       "    <tr>\n",
       "      <th>3</th>\n",
       "      <td>bar</td>\n",
       "      <td>three</td>\n",
       "      <td>2.729314</td>\n",
       "      <td>0.019213</td>\n",
       "    </tr>\n",
       "    <tr>\n",
       "      <th>4</th>\n",
       "      <td>foo</td>\n",
       "      <td>two</td>\n",
       "      <td>0.580785</td>\n",
       "      <td>0.250382</td>\n",
       "    </tr>\n",
       "    <tr>\n",
       "      <th>5</th>\n",
       "      <td>bar</td>\n",
       "      <td>two</td>\n",
       "      <td>0.088483</td>\n",
       "      <td>-0.318594</td>\n",
       "    </tr>\n",
       "    <tr>\n",
       "      <th>6</th>\n",
       "      <td>foo</td>\n",
       "      <td>one</td>\n",
       "      <td>-0.827195</td>\n",
       "      <td>0.248770</td>\n",
       "    </tr>\n",
       "    <tr>\n",
       "      <th>7</th>\n",
       "      <td>foo</td>\n",
       "      <td>three</td>\n",
       "      <td>-0.670801</td>\n",
       "      <td>0.145013</td>\n",
       "    </tr>\n",
       "  </tbody>\n",
       "</table>\n",
       "</div>"
      ],
      "text/plain": [
       "     A      B         C         D\n",
       "0  foo    one -0.977165  0.595699\n",
       "1  bar    one  0.629838 -0.625143\n",
       "2  foo    two  1.195580  1.878518\n",
       "3  bar  three  2.729314  0.019213\n",
       "4  foo    two  0.580785  0.250382\n",
       "5  bar    two  0.088483 -0.318594\n",
       "6  foo    one -0.827195  0.248770\n",
       "7  foo  three -0.670801  0.145013"
      ]
     },
     "execution_count": 74,
     "metadata": {},
     "output_type": "execute_result"
    }
   ],
   "source": [
    "df.to_excel('foo.xlsx', sheet_name='Sheet1')\n",
    "pd.read_excel('foo.xlsx', 'Sheet1', index_col=None, na_values=['NA'])"
   ]
  },
  {
   "cell_type": "code",
   "execution_count": null,
   "metadata": {
    "collapsed": true
   },
   "outputs": [],
   "source": []
  }
 ],
 "metadata": {
  "kernelspec": {
   "display_name": "Python 2",
   "language": "python",
   "name": "python2"
  },
  "language_info": {
   "codemirror_mode": {
    "name": "ipython",
    "version": 2
   },
   "file_extension": ".py",
   "mimetype": "text/x-python",
   "name": "python",
   "nbconvert_exporter": "python",
   "pygments_lexer": "ipython2",
   "version": "2.7.15"
  }
 },
 "nbformat": 4,
 "nbformat_minor": 1
}
