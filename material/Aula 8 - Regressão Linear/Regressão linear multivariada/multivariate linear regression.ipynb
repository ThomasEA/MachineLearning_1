{
 "cells": [
  {
   "cell_type": "markdown",
   "metadata": {},
   "source": [
    "### Criando o conjunto de dados artificial"
   ]
  },
  {
   "cell_type": "code",
   "execution_count": 5,
   "metadata": {},
   "outputs": [
    {
     "data": {
      "text/plain": [
       "<Figure size 640x480 with 1 Axes>"
      ]
     },
     "metadata": {},
     "output_type": "display_data"
    }
   ],
   "source": [
    "import pandas as pd\n",
    "import numpy as np\n",
    "from matplotlib import pyplot as plt\n",
    "\n",
    "n_start = 100\n",
    "\n",
    "X = list(range(2, n_start))  # linha principal\n",
    "y = [np.log10(x) for x in X]\n",
    "\n",
    "std = 5  # desvio padrão\n",
    "\n",
    "for i in range(n_start):  \n",
    "    index = np.random.choice(X)\n",
    "    \n",
    "    X += [index]\n",
    "    y += [y[index] + np.random.randint(-std, std) / 100.]\n",
    "    \n",
    "X = X[n_start:]\n",
    "y = y[n_start:]\n",
    "X = np.array(X)\n",
    "y = np.array(y)\n",
    "\n",
    "X_old = X\n",
    "y_old = y\n",
    "\n",
    "plt.scatter(X, y, c='red')\n",
    "plt.show()"
   ]
  },
  {
   "cell_type": "markdown",
   "metadata": {},
   "source": [
    "### Redimensionando os dados\n",
    "\n",
    "Adiciona $x_0$ ao conjunto de treino"
   ]
  },
  {
   "cell_type": "code",
   "execution_count": 6,
   "metadata": {},
   "outputs": [
    {
     "data": {
      "text/plain": [
       "array([[ 1., 32.],\n",
       "       [ 1., 37.],\n",
       "       [ 1., 12.],\n",
       "       [ 1., 15.],\n",
       "       [ 1., 64.],\n",
       "       [ 1., 73.],\n",
       "       [ 1., 36.],\n",
       "       [ 1., 62.],\n",
       "       [ 1., 97.],\n",
       "       [ 1., 78.],\n",
       "       [ 1., 67.],\n",
       "       [ 1., 96.],\n",
       "       [ 1., 25.],\n",
       "       [ 1., 95.],\n",
       "       [ 1., 24.],\n",
       "       [ 1., 15.],\n",
       "       [ 1., 11.],\n",
       "       [ 1., 15.],\n",
       "       [ 1., 15.],\n",
       "       [ 1., 38.],\n",
       "       [ 1., 63.],\n",
       "       [ 1., 27.],\n",
       "       [ 1., 42.],\n",
       "       [ 1., 27.],\n",
       "       [ 1., 57.],\n",
       "       [ 1., 22.],\n",
       "       [ 1., 63.],\n",
       "       [ 1., 76.],\n",
       "       [ 1., 54.],\n",
       "       [ 1., 60.],\n",
       "       [ 1., 63.],\n",
       "       [ 1., 16.],\n",
       "       [ 1., 49.],\n",
       "       [ 1., 15.],\n",
       "       [ 1., 60.],\n",
       "       [ 1., 94.],\n",
       "       [ 1., 13.],\n",
       "       [ 1., 33.],\n",
       "       [ 1., 76.],\n",
       "       [ 1., 11.],\n",
       "       [ 1., 29.],\n",
       "       [ 1., 40.],\n",
       "       [ 1., 85.],\n",
       "       [ 1., 65.],\n",
       "       [ 1.,  3.],\n",
       "       [ 1., 27.],\n",
       "       [ 1., 59.],\n",
       "       [ 1., 16.],\n",
       "       [ 1., 13.],\n",
       "       [ 1.,  2.],\n",
       "       [ 1., 39.],\n",
       "       [ 1., 77.],\n",
       "       [ 1., 88.],\n",
       "       [ 1., 13.],\n",
       "       [ 1.,  2.],\n",
       "       [ 1., 62.],\n",
       "       [ 1., 79.],\n",
       "       [ 1., 24.],\n",
       "       [ 1., 49.],\n",
       "       [ 1., 13.],\n",
       "       [ 1.,  2.],\n",
       "       [ 1., 45.],\n",
       "       [ 1., 29.],\n",
       "       [ 1., 88.],\n",
       "       [ 1., 22.],\n",
       "       [ 1., 41.],\n",
       "       [ 1., 15.],\n",
       "       [ 1., 24.],\n",
       "       [ 1., 14.],\n",
       "       [ 1., 72.],\n",
       "       [ 1., 85.],\n",
       "       [ 1., 38.],\n",
       "       [ 1., 94.],\n",
       "       [ 1., 26.],\n",
       "       [ 1., 70.],\n",
       "       [ 1.,  6.],\n",
       "       [ 1., 42.],\n",
       "       [ 1., 62.],\n",
       "       [ 1., 18.],\n",
       "       [ 1., 85.],\n",
       "       [ 1., 79.],\n",
       "       [ 1., 62.],\n",
       "       [ 1., 36.],\n",
       "       [ 1., 24.],\n",
       "       [ 1.,  2.],\n",
       "       [ 1., 24.],\n",
       "       [ 1., 48.],\n",
       "       [ 1., 42.],\n",
       "       [ 1., 13.],\n",
       "       [ 1., 63.],\n",
       "       [ 1., 48.],\n",
       "       [ 1., 51.],\n",
       "       [ 1., 63.],\n",
       "       [ 1., 27.],\n",
       "       [ 1., 49.],\n",
       "       [ 1., 24.],\n",
       "       [ 1., 62.],\n",
       "       [ 1., 88.]])"
      ]
     },
     "metadata": {},
     "output_type": "display_data"
    }
   ],
   "source": [
    "X.shape = (X.shape[0], 1)\n",
    "\n",
    "x0 = np.ones(X.shape[0]).reshape(X.shape[0], 1)  # define vetor-coluna x0\n",
    "\n",
    "X = np.hstack((x0, X))  # adiciona x0 ao começo da matriz de instâncias\n",
    "\n",
    "display(X)"
   ]
  },
  {
   "cell_type": "markdown",
   "metadata": {},
   "source": [
    "### Predições modificadas"
   ]
  },
  {
   "cell_type": "code",
   "execution_count": 7,
   "metadata": {},
   "outputs": [
    {
     "data": {
      "image/png": "[encoded data removed]",
      "text/plain": [
       "<Figure size 432x288 with 1 Axes>"
      ]
     },
     "metadata": {},
     "output_type": "display_data"
    }
   ],
   "source": [
    "def hypothesis_2(X, theta):\n",
    "    return np.dot(X ** (1./2.), theta.T)  #modificando apenas x1, já que x0 é 1 e qualquer potência de 1 é 1\n",
    "\n",
    "theta = np.array([[0.1, 0.22]])  # theta é um vetor linha\n",
    "    \n",
    "preds = hypothesis_2(X, theta)  # predições para conjunto de treino\n",
    "\n",
    "X_range = np.arange(2, 100)\n",
    "\n",
    "plt.scatter(X_old, y_old, c='red')  # dados de treino\n",
    "plt.plot(\n",
    "    X_range,\n",
    "    hypothesis_2(\n",
    "        np.hstack((\n",
    "            np.ones(X_range.shape[0], dtype=float).reshape(X_range.shape[0], 1), \n",
    "            X_range.reshape(X_range.shape[0], 1), \n",
    "        )),\n",
    "        theta\n",
    "    )\n",
    ")\n",
    "plt.show()"
   ]
  }
 ],
 "metadata": {
  "anaconda-cloud": {},
  "kernelspec": {
   "display_name": "Python 2",
   "language": "python",
   "name": "python2"
  },
  "language_info": {
   "codemirror_mode": {
    "name": "ipython",
    "version": 2
   },
   "file_extension": ".py",
   "mimetype": "text/x-python",
   "name": "python",
   "nbconvert_exporter": "python",
   "pygments_lexer": "ipython2",
   "version": "2.7.15"
  }
 },
 "nbformat": 4,
 "nbformat_minor": 2
}
