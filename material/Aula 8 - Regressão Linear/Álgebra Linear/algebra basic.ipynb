{
 "cells": [
  {
   "cell_type": "code",
   "execution_count": 1,
   "metadata": {
    "collapsed": true
   },
   "outputs": [],
   "source": [
    "import numpy as np\n",
    "import pandas as pd\n",
    "from matplotlib import pyplot as plt"
   ]
  },
  {
   "cell_type": "code",
   "execution_count": 4,
   "metadata": {
    "collapsed": false,
    "scrolled": true
   },
   "outputs": [
    {
     "name": "stdout",
     "output_type": "stream",
     "text": [
      "[[10 20]\n",
      " [30 40]\n",
      " [50 60]]\n"
     ]
    }
   ],
   "source": [
    "m = np.array([\n",
    "        [10,20],\n",
    "        [30,40],\n",
    "        [50,60]\n",
    "    ])\n",
    "print m"
   ]
  },
  {
   "cell_type": "code",
   "execution_count": 5,
   "metadata": {
    "collapsed": false
   },
   "outputs": [
    {
     "name": "stdout",
     "output_type": "stream",
     "text": [
      "(3, 2)\n"
     ]
    }
   ],
   "source": [
    "print m.shape"
   ]
  },
  {
   "cell_type": "code",
   "execution_count": 6,
   "metadata": {
    "collapsed": false
   },
   "outputs": [
    {
     "name": "stdout",
     "output_type": "stream",
     "text": [
      "[[10 20 30 40]\n",
      " [35 60 70 80]\n",
      " [90 11 12 13]]\n"
     ]
    }
   ],
   "source": [
    "m1 = np.array([\n",
    "        [10, 20, 30, 40],\n",
    "        [35, 60, 70, 80],\n",
    "        [90, 11, 12, 13]\n",
    "    ])\n",
    "print m1"
   ]
  },
  {
   "cell_type": "code",
   "execution_count": 7,
   "metadata": {
    "collapsed": false
   },
   "outputs": [
    {
     "name": "stdout",
     "output_type": "stream",
     "text": [
      "(3, 4)\n"
     ]
    }
   ],
   "source": [
    "print m1.shape"
   ]
  },
  {
   "cell_type": "code",
   "execution_count": 9,
   "metadata": {
    "collapsed": false
   },
   "outputs": [
    {
     "name": "stdout",
     "output_type": "stream",
     "text": [
      "[[10 20 30]\n",
      " [40 50 60]\n",
      " [70 80 90]]\n"
     ]
    }
   ],
   "source": [
    "m2 = np.array([\n",
    "        [10, 20, 30],\n",
    "        [40, 50, 60],\n",
    "        [70, 80, 90]\n",
    "    ])\n",
    "print m2"
   ]
  },
  {
   "cell_type": "code",
   "execution_count": 10,
   "metadata": {
    "collapsed": false
   },
   "outputs": [
    {
     "name": "stdout",
     "output_type": "stream",
     "text": [
      "(3, 3)\n"
     ]
    }
   ],
   "source": [
    "print m2.shape"
   ]
  },
  {
   "cell_type": "code",
   "execution_count": 15,
   "metadata": {
    "collapsed": false
   },
   "outputs": [
    {
     "name": "stdout",
     "output_type": "stream",
     "text": [
      "[10 20]\n",
      "(2,) = unidimensional\n"
     ]
    }
   ],
   "source": [
    "ve = np.array([10, 20])\n",
    "\n",
    "ma = np.array([\n",
    "        [1,2]\n",
    "    ])\n",
    "\n",
    "print ve\n",
    "print ve.shape, '= unidimensional'"
   ]
  },
  {
   "cell_type": "code",
   "execution_count": 14,
   "metadata": {
    "collapsed": false
   },
   "outputs": [
    {
     "name": "stdout",
     "output_type": "stream",
     "text": [
      "[[1 2]]\n",
      "(1, 2) = multimensional\n"
     ]
    }
   ],
   "source": [
    "print ma\n",
    "print ma.shape, '= multimensional'"
   ]
  },
  {
   "cell_type": "code",
   "execution_count": 16,
   "metadata": {
    "collapsed": false
   },
   "outputs": [
    {
     "name": "stdout",
     "output_type": "stream",
     "text": [
      "[10 20 30 40]\n",
      "(4,)\n"
     ]
    }
   ],
   "source": [
    "ve1 = np.array([10, 20, 30, 40])\n",
    "print ve1\n",
    "print ve1.shape"
   ]
  },
  {
   "cell_type": "code",
   "execution_count": 17,
   "metadata": {
    "collapsed": false,
    "scrolled": true
   },
   "outputs": [
    {
     "name": "stdout",
     "output_type": "stream",
     "text": [
      "[[10 20]\n",
      " [30 40]\n",
      " [50 60]]\n",
      "(3, 2)\n"
     ]
    }
   ],
   "source": [
    "ma1 = np.array([[10, 20], [30, 40], [50, 60]])\n",
    "print ma1\n",
    "print ma1.shape"
   ]
  },
  {
   "cell_type": "code",
   "execution_count": 18,
   "metadata": {
    "collapsed": false
   },
   "outputs": [
    {
     "name": "stdout",
     "output_type": "stream",
     "text": [
      "[[10  0]\n",
      " [20 30]]\n",
      "(2, 2)\n"
     ]
    }
   ],
   "source": [
    "ma2 = np.array([[10, 0], [20, 30]])\n",
    "print ma2\n",
    "print ma2.shape"
   ]
  },
  {
   "cell_type": "code",
   "execution_count": 21,
   "metadata": {
    "collapsed": false
   },
   "outputs": [
    {
     "name": "stdout",
     "output_type": "stream",
     "text": [
      "[[ 500  600]\n",
      " [1100 1200]\n",
      " [1700 1800]]\n",
      "(3, 2)\n"
     ]
    }
   ],
   "source": [
    "result = np.dot(ma1, ma2)\n",
    "print result\n",
    "print result.shape"
   ]
  },
  {
   "cell_type": "code",
   "execution_count": 26,
   "metadata": {
    "collapsed": false
   },
   "outputs": [
    {
     "name": "stdout",
     "output_type": "stream",
     "text": [
      "[[10 30 50]\n",
      " [20 40 60]]\n",
      "(2, 3)\n"
     ]
    }
   ],
   "source": [
    "print ma1.T\n",
    "print ma1.T.shape"
   ]
  },
  {
   "cell_type": "code",
   "execution_count": 27,
   "metadata": {
    "collapsed": false
   },
   "outputs": [
    {
     "name": "stdout",
     "output_type": "stream",
     "text": [
      "[[10 30 50]\n",
      " [20 40 60]]\n"
     ]
    }
   ],
   "source": [
    "print np.transpose(ma1)"
   ]
  },
  {
   "cell_type": "code",
   "execution_count": 28,
   "metadata": {
    "collapsed": false
   },
   "outputs": [
    {
     "name": "stdout",
     "output_type": "stream",
     "text": [
      "[[ 100  200  300]\n",
      " [1800 2400 3000]\n",
      " [2300 3100 3900]]\n"
     ]
    }
   ],
   "source": [
    "a = np.array([[10, 0], [20, 40], [30, 50]])\n",
    "b = np.array([[10, 20, 30], [40, 50, 60]])\n",
    "c = np.array([[10, 20, 30], [40, 50, 60], [70, 80, 90]])\n",
    "\n",
    "print np.dot(a, b)"
   ]
  },
  {
   "cell_type": "code",
   "execution_count": 29,
   "metadata": {
    "collapsed": false
   },
   "outputs": [
    {
     "name": "stdout",
     "output_type": "stream",
     "text": [
      "[[3000 3600 4200]\n",
      " [5100 6000 6900]]\n"
     ]
    }
   ],
   "source": [
    "print np.dot(a.T, c)"
   ]
  },
  {
   "cell_type": "code",
   "execution_count": 31,
   "metadata": {
    "collapsed": false
   },
   "outputs": [
    {
     "name": "stdout",
     "output_type": "stream",
     "text": [
      "[[3000 3600 4200]\n",
      " [6600 8100 9600]]\n"
     ]
    }
   ],
   "source": [
    "print np.dot(b, c)"
   ]
  },
  {
   "cell_type": "code",
   "execution_count": 40,
   "metadata": {
    "collapsed": false
   },
   "outputs": [
    {
     "name": "stdout",
     "output_type": "stream",
     "text": [
      "1.5\n",
      "0.0\n",
      "1.0\n"
     ]
    }
   ],
   "source": [
    "print 1.5 + 0 * 0\n",
    "print 0 + 0.5 * 0\n",
    "print 1 + 0.5 * 0"
   ]
  },
  {
   "cell_type": "code",
   "execution_count": 41,
   "metadata": {
    "collapsed": false
   },
   "outputs": [
    {
     "name": "stdout",
     "output_type": "stream",
     "text": [
      "1.5\n",
      "0.5\n",
      "1.5\n"
     ]
    }
   ],
   "source": [
    "print 1.5 + 0 * 1\n",
    "print 0 + 0.5 * 1\n",
    "print 1 + 0.5 * 1"
   ]
  },
  {
   "cell_type": "code",
   "execution_count": 43,
   "metadata": {
    "collapsed": false
   },
   "outputs": [
    {
     "name": "stdout",
     "output_type": "stream",
     "text": [
      "1.5\n",
      "1.0\n",
      "2.0\n"
     ]
    }
   ],
   "source": [
    "print 1.5 + 0 * 2\n",
    "print 0 + 0.5 * 2\n",
    "print 1 + 0.5 * 2"
   ]
  },
  {
   "cell_type": "code",
   "execution_count": 45,
   "metadata": {
    "collapsed": false
   },
   "outputs": [
    {
     "name": "stdout",
     "output_type": "stream",
     "text": [
      "1.5\n",
      "1.5\n",
      "2.5\n"
     ]
    }
   ],
   "source": [
    "print 1.5 + 0 * 3\n",
    "print 0 + 0.5 * 3\n",
    "print 1 + 0.5 * 3"
   ]
  },
  {
   "cell_type": "code",
   "execution_count": 60,
   "metadata": {
    "collapsed": false
   },
   "outputs": [
    {
     "name": "stdout",
     "output_type": "stream",
     "text": [
      "0.5\n",
      "1.5\n",
      "2.5\n",
      "3.5\n"
     ]
    }
   ],
   "source": [
    "print 0.5 + 1 * 0\n",
    "print 0.5 + 1 * 1\n",
    "print 0.5 + 1 * 2\n",
    "print 0.5 + 1 * 3"
   ]
  },
  {
   "cell_type": "code",
   "execution_count": 62,
   "metadata": {
    "collapsed": false
   },
   "outputs": [
    {
     "name": "stdout",
     "output_type": "stream",
     "text": [
      "0.0\n",
      "0.5\n",
      "2.5\n",
      "3.5\n"
     ]
    }
   ],
   "source": [
    "print 0.0 + 0 * 0\n",
    "print 0.0 + 0.5 * 1\n",
    "print 0.5 + 1 * 2\n",
    "print 0.5 + 1 * 3"
   ]
  },
  {
   "cell_type": "code",
   "execution_count": null,
   "metadata": {
    "collapsed": true
   },
   "outputs": [],
   "source": []
  }
 ],
 "metadata": {
  "kernelspec": {
   "display_name": "Python [conda root]",
   "language": "python",
   "name": "conda-root-py"
  },
  "language_info": {
   "codemirror_mode": {
    "name": "ipython",
    "version": 2
   },
   "file_extension": ".py",
   "mimetype": "text/x-python",
   "name": "python",
   "nbconvert_exporter": "python",
   "pygments_lexer": "ipython2",
   "version": "2.7.12"
  }
 },
 "nbformat": 4,
 "nbformat_minor": 1
}
