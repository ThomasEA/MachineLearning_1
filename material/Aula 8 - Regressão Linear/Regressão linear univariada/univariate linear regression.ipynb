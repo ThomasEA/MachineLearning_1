{
 "cells": [
  {
   "cell_type": "markdown",
   "metadata": {},
   "source": [
    "## Regressão Linear Univariada\n",
    "\n",
    "hipótese: $h_{\\theta}(x^{(i)}) = \\theta_0 + \\theta_1x$\n",
    "\n",
    "função de custo: $J(\\theta) = \\frac{1}{2N}\\sum_{i=1}^{N}(h_{\\theta}(x^{(i)}) - y^{(i)})^2$"
   ]
  },
  {
   "cell_type": "code",
   "execution_count": null,
   "metadata": {
    "collapsed": false
   },
   "outputs": [],
   "source": [
    "#encoding=utf-8\n",
    "from matplotlib import pyplot as plt\n",
    "import numpy as np\n",
    "\n",
    "t0 = 0.  # altere os pesos aqui\n",
    "t1 = 0  # altere os pesos aqui\n",
    "\n",
    "X, fx = np.array([0, 1, 2], dtype=float), np.array([0, 1, 4], dtype=float)  # conjuntos X e y"
   ]
  },
  {
   "cell_type": "code",
   "execution_count": 2,
   "metadata": {
    "collapsed": true
   },
   "outputs": [],
   "source": [
    "def hypothesis(x, t0, t1):\n",
    "    return t0 + t1 * x"
   ]
  },
  {
   "cell_type": "code",
   "execution_count": 3,
   "metadata": {
    "collapsed": false
   },
   "outputs": [],
   "source": [
    "def cost_function(X, fx, h, t0, t1):\n",
    "    soma = 0.\n",
    "    N = len(X)\n",
    "    \n",
    "    for i in range(N):\n",
    "        soma += (h(X[i], t0, t1) - fx[i]) ** 2.\n",
    "    \n",
    "    return (1./(2. * float(N))) * soma"
   ]
  },
  {
   "cell_type": "code",
   "execution_count": null,
   "metadata": {
    "collapsed": false
   },
   "outputs": [],
   "source": [
    "print cost_function(X, fx, hypothesis, t0, t1)"
   ]
  },
  {
   "cell_type": "markdown",
   "metadata": {},
   "source": [
    "### Projetando as predições"
   ]
  },
  {
   "cell_type": "code",
   "execution_count": null,
   "metadata": {
    "collapsed": false
   },
   "outputs": [],
   "source": [
    "plt.plot(X, [hypothesis(x, t0, t1) for x in X], c='blue')\n",
    "plt.scatter(X, fx, c='red')\n",
    "plt.xlabel('x')\n",
    "plt.ylabel('f(x)')\n",
    "plt.title(u'Predições ' + r'para $\\theta_0=$' + str(t0) + r' e $\\theta_1=$' + str(t1))\n",
    "plt.show()"
   ]
  },
  {
   "cell_type": "markdown",
   "metadata": {},
   "source": [
    "### Projetando o gráfico de custos"
   ]
  },
  {
   "cell_type": "code",
   "execution_count": null,
   "metadata": {
    "collapsed": false,
    "scrolled": false
   },
   "outputs": [],
   "source": [
    "t0s = [0.0, 0.0, 0.0, 0.0, 0.0, 0.0]\n",
    "t1s = [0.0, 0.5, 1.0, 1.5, 2.0, 2.5]\n",
    "plt.plot(t1s, [cost_function(X, fx, hypothesis, a, b) for a, b in zip(t0s, t1s)], c='green')\n",
    "plt.xlabel(r'$\\theta_1$')\n",
    "plt.ylabel(r'$J(\\theta_1)$')\n",
    "plt.title(u'Custo associado ao parâmetro ' + r'$\\theta_1$')\n",
    "plt.show()"
   ]
  },
  {
   "cell_type": "markdown",
   "metadata": {},
   "source": [
    "***\n",
    "\n",
    "### Atualização de pesos"
   ]
  },
  {
   "cell_type": "code",
   "execution_count": 4,
   "metadata": {
    "collapsed": false
   },
   "outputs": [],
   "source": [
    "def update_t0(X, fx, h, t0, t1, alpha):\n",
    "    \"\"\"\n",
    "    Atualiza t0 com base nos N valores passados para esta função.\n",
    "    \"\"\"\n",
    "    \n",
    "    N = len(X)\n",
    "    soma = 0.\n",
    "    \n",
    "    for i in range(N):\n",
    "        soma += (h(X[i], t0, t1) - fx[i])\n",
    "    \n",
    "    return t0 - ((alpha * (1./float(N))) * soma)\n",
    "\n",
    "\n",
    "def update_t1(X, fx, h, t0, t1, alpha):\n",
    "    \"\"\"\n",
    "    Atualiza t1 com base nos N valores passados para esta função.\n",
    "    \"\"\"\n",
    "    N = len(X)\n",
    "    \n",
    "    soma = 0.\n",
    "    for i in range(N):\n",
    "        soma += (h(X[i], t0, t1) - fx[i]) * X[i]\n",
    "    \n",
    "    return t1 - ((alpha * (1./float(N))) * soma)"
   ]
  },
  {
   "cell_type": "code",
   "execution_count": null,
   "metadata": {
    "collapsed": false
   },
   "outputs": [],
   "source": [
    "# redefinindo os valores aqui, por conveniência\n",
    "\n",
    "t0 = 0.1\n",
    "t1 = 1.\n",
    "alpha = 0.5\n",
    "X, fx = np.array([0, 1, 2], dtype=float), np.array([0, 1, 4], dtype=float)\n",
    "\n",
    "temp0 = update_t0(X, fx, hypothesis, t0, t1, alpha)\n",
    "temp1 = update_t1(X, fx, hypothesis, t0, t1, alpha)\n",
    "\n",
    "print 'antigo theta0: %f novo theta0: %f' % (t0, temp0)\n",
    "print 'antigo theta1: %f novo theta1: %f' % (t1, temp1)"
   ]
  },
  {
   "cell_type": "code",
   "execution_count": null,
   "metadata": {
    "collapsed": false
   },
   "outputs": [],
   "source": [
    "plt.plot(X, [hypothesis(x, t0, t1) for x in X], label=u'modelo antigo', c='blue')\n",
    "plt.plot(X, [hypothesis(x, temp0, temp1) for x in X], label=u'novo modelo', c='purple')\n",
    "plt.scatter(X, fx, label='dados reais', c='red')\n",
    "plt.legend(loc='upper left')\n",
    "plt.show()"
   ]
  },
  {
   "cell_type": "markdown",
   "metadata": {},
   "source": [
    "### Regressão Linear univariada (processo completo)\n"
   ]
  },
  {
   "cell_type": "code",
   "execution_count": null,
   "metadata": {
    "collapsed": false
   },
   "outputs": [],
   "source": [
    "# redefinindo os valores aqui, por conveniência\n",
    "\n",
    "t0 = 0.1  # theta 0\n",
    "t1 = 1.  # theta 1\n",
    "alpha = 0.1  # taxa de aprendizado\n",
    "X, fx = np.array([0, 1, 2, 3], dtype=float), np.array([1, 2, 4, 9], dtype=float)  # X e fx\n",
    "threshold = 0.001  # diferença aceitável entre custos\n",
    "batch_size = 2  # tamanho do batch\n",
    "epoch = 0\n",
    "max_epoch = 10  # máximo número de iterações permitido\n",
    "\n",
    "\n",
    "prev = np.inf  # custo anterior\n",
    "curr = cost_function(X, fx, hypothesis, t0, t1)  # custo atual\n",
    "while (abs(curr - prev) > threshold) and (epoch < max_epoch):\n",
    "    bc = 0  # contador de quantas instâncias passaram pelo batch\n",
    "    \n",
    "    for i in range(batch_size):\n",
    "        X_local = X[bc:(bc + batch_size)]\n",
    "        fx_local = fx[bc:(bc + batch_size)]\n",
    "        \n",
    "        temp0 = update_t0(X_local, fx_local, hypothesis, t0, t1, alpha)\n",
    "        temp1 = update_t1(X_local, fx_local, hypothesis, t0, t1, alpha)\n",
    "        \n",
    "        t0 = temp0\n",
    "        t1 = temp1\n",
    "        \n",
    "        bc += 1\n",
    "    \n",
    "    prev = curr\n",
    "    curr = cost_function(X, fx, hypothesis, t0, t1)\n",
    "    print 'custo na época %d: %f' % (epoch, curr)\n",
    "    epoch += 1\n"
   ]
  },
  {
   "cell_type": "markdown",
   "metadata": {},
   "source": [
    "# Exercício"
   ]
  },
  {
   "cell_type": "code",
   "execution_count": 5,
   "metadata": {
    "collapsed": false
   },
   "outputs": [
    {
     "name": "stdout",
     "output_type": "stream",
     "text": [
      "custo na época 0: 103588707294442984476508160.000000\n",
      "custo na época 1: 210913074974230844302020487193006093025411072.000000\n",
      "custo na época 2: 429432187705221381466682854631615852829267553791090438485049344.000000\n",
      "custo na época 3: 874350743119285322999469412977428921396838169995201328910104714605723665397972992.000000\n",
      "custo na época 4: 1780232697689677972918878929697583774559529460827968382287878341381618024228319069495099064374525952.000000\n",
      "custo na época 5: 3624664910350629560788043173843348001736169531152234270006127173320984592911724384860971539100894293583263679245189120.000000\n",
      "custo na época 6: 7380044041083734427718418142607935444427123381756209549368906284624200702321509843911008857930361587709070297955895857264529024563019776.000000\n",
      "custo na época 7: 15026230395202778597634680778892555333248395060284269946443786612393864566905403112109307140121094727278655624726291413429562314661291466775767530556358656.000000\n",
      "custo na época 8: 30594343154700107330598068068097487059068328760587280292153540277972382968904982104230613514973543370889561109561887883155360456043012639887939746929718174311760258991652864.000000\n",
      "custo na época 9: 62291992632189102824715650938979041797597801649129479863249215087002853813461607276054744283718248092371213904751455597654712026407240454775307610422100645405304295084791006008324338231541760.000000\n"
     ]
    }
   ],
   "source": []
  }
 ],
 "metadata": {
  "anaconda-cloud": {},
  "kernelspec": {
   "display_name": "Python [default]",
   "language": "python",
   "name": "python2"
  },
  "language_info": {
   "codemirror_mode": {
    "name": "ipython",
    "version": 2
   },
   "file_extension": ".py",
   "mimetype": "text/x-python",
   "name": "python",
   "nbconvert_exporter": "python",
   "pygments_lexer": "ipython2",
   "version": "2.7.12"
  }
 },
 "nbformat": 4,
 "nbformat_minor": 2
}
