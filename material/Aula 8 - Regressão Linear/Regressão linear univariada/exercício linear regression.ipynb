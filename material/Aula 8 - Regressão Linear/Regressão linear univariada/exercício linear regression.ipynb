{
 "cells": [
  {
   "cell_type": "code",
   "execution_count": 16,
   "metadata": {
    "scrolled": false
   },
   "outputs": [
    {
     "name": "stdout",
     "output_type": "stream",
     "text": [
      "custo na época 0: 7.334416\n",
      "custo na época 1: 7.282304\n",
      "custo na época 2: 7.231723\n",
      "custo na época 3: 7.182626\n",
      "custo na época 4: 7.134965\n",
      "custo na época 5: 7.088693\n",
      "custo na época 6: 7.043768\n",
      "custo na época 7: 7.000145\n",
      "custo na época 8: 6.957784\n",
      "custo na época 9: 6.916646\n",
      "t0: 0.20105876428812047\n",
      "t1: 0.9563867171890845\n"
     ]
    }
   ],
   "source": [
    "import numpy as np\n",
    "import pandas as pd\n",
    "from sklearn.cross_validation import train_test_split\n",
    "\n",
    "def hypothesis(x, t0, t1):\n",
    "    return t0 + t1 * x\n",
    "\n",
    "def cost_function(X, fx, h, t0, t1):\n",
    "    soma = 0.\n",
    "    N = len(X)\n",
    "    \n",
    "    for i in range(N):\n",
    "        soma += (h(X[i], t0, t1) - fx[i]) ** 2.\n",
    "    \n",
    "    return (1./(2. * float(N))) * soma\n",
    "\n",
    "def update_t0(X, fx, h, t0, t1, alpha):\n",
    "    \"\"\"\n",
    "    Atualiza t0 com base nos N valores passados para esta função.\n",
    "    \"\"\"\n",
    "    \n",
    "    N = len(X)\n",
    "    soma = 0.\n",
    "    \n",
    "    for i in range(N):\n",
    "        soma += (h(X[i], t0, t1) - fx[i])\n",
    "    \n",
    "    return t0 - ((alpha * (1./float(N))) * soma)\n",
    "\n",
    "\n",
    "def update_t1(X, fx, h, t0, t1, alpha):\n",
    "    \"\"\"\n",
    "    Atualiza t1 com base nos N valores passados para esta função.\n",
    "    \"\"\"\n",
    "    N = len(X)\n",
    "    \n",
    "    soma = 0.\n",
    "    for i in range(N):\n",
    "        soma += (h(X[i], t0, t1) - fx[i]) * X[i]\n",
    "    \n",
    "    return t1 - ((alpha * (1./float(N))) * soma)\n",
    "\n",
    "def main():\n",
    "    dataset = pd.read_csv('ex1data1.csv', nrows=None, header=0, index_col=None)\n",
    "    trainset, testset, = train_test_split(dataset, test_size=0.5)\n",
    "    \n",
    "    t0 = 0.5  # theta 0\n",
    "    t1 = 0.  # theta 1\n",
    "    alpha = 0.01  # taxa de aprendizado\n",
    "#     X, fx = np.array([0, 1, 2, 3], dtype=float), np.array([1, 2, 4, 9], dtype=float)  # X e fx\n",
    "    X, fx = trainset['populacao'].values, trainset['lucro'].values\n",
    "    threshold = 0.001  # diferença aceitável entre custos\n",
    "    batch_size = 8  # tamanho do batch\n",
    "    epoch = 0\n",
    "    max_epoch = 10  # máximo número de iterações permitido\n",
    "    \n",
    "    prev = np.inf  # custo anterior\n",
    "    curr = cost_function(X, fx, hypothesis, t0, t1)  # custo atual\n",
    "    while (abs(curr - prev) > threshold) and (epoch < max_epoch):\n",
    "        bc = 0  # contador de quantas instâncias passaram pelo batch\n",
    "\n",
    "        for i in range(batch_size):\n",
    "            X_local = X[bc:(bc + batch_size)]\n",
    "            fx_local = fx[bc:(bc + batch_size)]\n",
    "\n",
    "            temp0 = update_t0(X_local, fx_local, hypothesis, t0, t1, alpha)\n",
    "            temp1 = update_t1(X_local, fx_local, hypothesis, t0, t1, alpha)\n",
    "\n",
    "            t0 = temp0\n",
    "            t1 = temp1\n",
    "\n",
    "            bc += 1\n",
    "            \n",
    "#     plt.plot(t1s, [cost_function(X, fx, hypothesis, a, b) for a, b in zip(t0s, t1s)], c='green')\n",
    "#     plt.xlabel(r'$\\theta_1$')\n",
    "#     plt.ylabel(r'$J(\\theta_1)$')\n",
    "#     plt.title(u'Custo associado ao parâmetro ' + r'$\\theta_1$')\n",
    "#     plt.show()\n",
    "\n",
    "        prev = curr\n",
    "        curr = cost_function(X, fx, hypothesis, t0, t1)\n",
    "        print 'custo na época %d: %f' % (epoch, curr)\n",
    "        epoch += 1\n",
    "    print 't0:', t0\n",
    "    print 't1:', t1\n",
    "    \n",
    "main()"
   ]
  },
  {
   "cell_type": "code",
   "execution_count": 36,
   "metadata": {
    "scrolled": true
   },
   "outputs": [
    {
     "name": "stdout",
     "output_type": "stream",
     "text": [
      "[ 3.45236022 20.3067826   4.09721789  9.30557461  3.32218379 20.39065307\n",
      " 10.18326145 12.18434019  2.48052581  2.71689881]\n",
      "0.9062289380302906\n"
     ]
    }
   ],
   "source": [
    "from sklearn import linear_model\n",
    "\n",
    "dataset = pd.read_csv('ex1data1.csv', nrows=None, header=0, index_col=None)\n",
    "trainset, testset, = train_test_split(dataset, test_size=0.1)\n",
    "\n",
    "clf = linear_model.LinearRegression(normalize=True)\n",
    "clf.fit(trainset.iloc[:, 0:-1], trainset.iloc[:, -1])\n",
    "predictions = clf.predict(testset.iloc[:, 0:-1])\n",
    "print predictions\n",
    "score = clf.score(testset.iloc[:, 0:-1], testset.iloc[:, -1])\n",
    "print score #best 1.0"
   ]
  },
  {
   "cell_type": "code",
   "execution_count": null,
   "metadata": {
    "collapsed": true
   },
   "outputs": [],
   "source": []
  }
 ],
 "metadata": {
  "kernelspec": {
   "display_name": "Python 2",
   "language": "python",
   "name": "python2"
  },
  "language_info": {
   "codemirror_mode": {
    "name": "ipython",
    "version": 2
   },
   "file_extension": ".py",
   "mimetype": "text/x-python",
   "name": "python",
   "nbconvert_exporter": "python",
   "pygments_lexer": "ipython2",
   "version": "2.7.15"
  }
 },
 "nbformat": 4,
 "nbformat_minor": 1
}
