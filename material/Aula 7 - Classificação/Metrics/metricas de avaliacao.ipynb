{
 "cells": [
  {
   "cell_type": "markdown",
   "metadata": {},
   "source": [
    "## Validação\n",
    "\n",
    "Código adaptado de http://scikit-learn.org/stable/auto_examples/classification/plot_classifier_comparison.html"
   ]
  },
  {
   "cell_type": "markdown",
   "metadata": {},
   "source": [
    "### Importações"
   ]
  },
  {
   "cell_type": "code",
   "execution_count": 8,
   "metadata": {},
   "outputs": [],
   "source": [
    "# encoding=utf-8\n",
    "%matplotlib inline\n",
    "\n",
    "import numpy as np\n",
    "import matplotlib.pyplot as plt\n",
    "from matplotlib.colors import ListedColormap\n",
    "\n",
    "# from sklearn.model_selection import train_test_split  # OU\n",
    "from sklearn.cross_validation import train_test_split  \n",
    "\n",
    "from sklearn.datasets import make_moons\n",
    "from sklearn.preprocessing import StandardScaler\n",
    "\n",
    "from sklearn.metrics import accuracy_score\n",
    "\n",
    "# classificador\n",
    "# from sklearn.tree import DecisionTreeClassifier\n",
    "from sklearn.neighbors import KNeighborsClassifier\n",
    "\n",
    "# definição de cores para a projeção\n",
    "cm = plt.cm.RdBu\n",
    "cm_bright = ListedColormap(['#FF0000', '#0000FF'])"
   ]
  },
  {
   "cell_type": "markdown",
   "metadata": {},
   "source": [
    "### Preparação conjunto de dados: carga e pré-processamento"
   ]
  },
  {
   "cell_type": "code",
   "execution_count": 9,
   "metadata": {},
   "outputs": [],
   "source": [
    "h = .02  # espaçamento dos pontos na projeção de cores\n",
    "test_size = .2  # tamanho do conjunto de testes\n",
    "seed = 42  # seed para geração do conjunto de dados\n",
    "k = 3\n",
    "\n",
    "X, y = make_moons(noise=0.15, random_state=0)\n",
    "X = StandardScaler().fit_transform(X)\n",
    "X_train, X_test, y_train, y_test = train_test_split(X, y, test_size=test_size, random_state=seed)\n",
    "\n",
    "x_min, x_max = X[:, 0].min() - .5, X[:, 0].max() + .5\n",
    "y_min, y_max = X[:, 1].min() - .5, X[:, 1].max() + .5\n",
    "xx, yy = np.meshgrid(np.arange(x_min, x_max, h),\n",
    "                     np.arange(y_min, y_max, h))\n"
   ]
  },
  {
   "cell_type": "markdown",
   "metadata": {},
   "source": [
    "### Definição do modelo "
   ]
  },
  {
   "cell_type": "code",
   "execution_count": 10,
   "metadata": {},
   "outputs": [],
   "source": [
    "# clf = DecisionTreeClassifier(max_depth=5)\n",
    "clf = KNeighborsClassifier(n_neighbors=k)\n",
    "name = 'kNN'\n",
    "\n",
    "clf.fit(X_train, y_train)  # adequa o modelo aos dados de treino\n",
    "y_pred = clf.predict(X_test)  # realiza predições\n",
    "\n",
    "acc = accuracy_score(y_test, y_pred)  # verifica acurácia"
   ]
  },
  {
   "cell_type": "markdown",
   "metadata": {},
   "source": [
    "### Projeção da fronteira de decisão"
   ]
  },
  {
   "cell_type": "code",
   "execution_count": 11,
   "metadata": {},
   "outputs": [
    {
     "name": "stdout",
     "output_type": "stream",
     "text": [
      "Acurácia com 20% do conjunto de dados para teste: 1.00\n"
     ]
    },
    {
     "data": {
      "image/png": "[encoded data removed]",
      "text/plain": [
       "<Figure size 432x288 with 1 Axes>"
      ]
     },
     "metadata": {},
     "output_type": "display_data"
    }
   ],
   "source": [
    "fig = plt.figure()\n",
    "ax = plt.subplot(111)\n",
    "plt.title(u\"Fronteira de Decisão\")\n",
    "\n",
    "# projeta a fronteira de decisão\n",
    "Z = clf.predict_proba(np.c_[xx.ravel(), yy.ravel()])[:, 1]\n",
    "\n",
    "# faz uma projeção de cores\n",
    "Z = Z.reshape(xx.shape)\n",
    "plt.contourf(xx, yy, Z, cmap=cm, alpha=.8)\n",
    "\n",
    "# projeta dados de treino\n",
    "plt.scatter(X_train[:, 0], X_train[:, 1], c=y_train, marker='o', cmap=cm_bright, label='treino')\n",
    "# projeta dados de teste\n",
    "plt.scatter(X_test[:, 0], X_test[:, 1], c=y_test, marker='s', cmap=cm_bright, label='teste')\n",
    "\n",
    "plt.xlim(xx.min(), xx.max())\n",
    "plt.ylim(yy.min(), yy.max())\n",
    "plt.xticks(())\n",
    "plt.yticks(())\n",
    "\n",
    "box = ax.get_position()\n",
    "ax.set_position([box.x0, box.y0, box.width * 0.8, box.height])\n",
    "\n",
    "# Put a legend to the right of the current axis\n",
    "ax.legend(loc='center left', bbox_to_anchor=(1, 0.5))\n",
    "    \n",
    "print u'Acurácia com %d%% do conjunto de dados para teste: %.2f' % (test_size * 100, acc)\n",
    "\n",
    "plt.show()"
   ]
  },
  {
   "cell_type": "markdown",
   "metadata": {},
   "source": [
    "\n",
    "---\n",
    "\n",
    "### Divisão entre treino, teste e validação (holdout)"
   ]
  },
  {
   "cell_type": "markdown",
   "metadata": {},
   "source": [
    "### Conjunto de dados"
   ]
  },
  {
   "cell_type": "code",
   "execution_count": 15,
   "metadata": {},
   "outputs": [],
   "source": [
    "# conjunto de dados\n",
    "import numpy as np\n",
    "from collections import Counter  # conta e agrupa itens em uma coleção\n",
    "\n",
    "n_instances, n_attributes = 100, 2\n",
    "\n",
    "X, y = (\n",
    "    np.random.randint(100, size=(n_instances, n_attributes)), \n",
    "    np.random.choice([0, 1], size=n_instances, replace=True)\n",
    ")"
   ]
  },
  {
   "cell_type": "code",
   "execution_count": 6,
   "metadata": {
    "scrolled": true
   },
   "outputs": [
    {
     "name": "stdout",
     "output_type": "stream",
     "text": [
      "Número de instâncias e distribuição de classes no conjunto de    treino: 64 Counter({1: 33, 0: 31})\n",
      "Número de instâncias e distribuição de classes no conjunto de     teste: 20 Counter({0: 10, 1: 10})\n",
      "Número de instâncias e distribuição de classes no conjunto de validação: 16 Counter({0: 8, 1: 8})\n"
     ]
    }
   ],
   "source": [
    "# from sklearn.model_selection import train_test_split  # OU\n",
    "from sklearn.cross_validation import train_test_split  \n",
    "\n",
    "X_HOLD, X_test, y_HOLD, y_test = train_test_split(X, y, test_size=0.2, stratify=y)\n",
    "X_train, X_val, y_train, y_val = train_test_split(X_HOLD, y_HOLD, test_size=0.2, stratify=y_HOLD)\n",
    "\n",
    "print 'Número de instâncias e distribuição de classes no conjunto de    treino:', X_train.shape[0], Counter(y_train)\n",
    "print 'Número de instâncias e distribuição de classes no conjunto de     teste:', X_test.shape[0], Counter(y_test)\n",
    "print 'Número de instâncias e distribuição de classes no conjunto de validação:', X_val.shape[0], Counter(y_val)"
   ]
  },
  {
   "cell_type": "markdown",
   "metadata": {},
   "source": [
    "### Divisão por validação cruzada (k-fold cross validation)"
   ]
  },
  {
   "cell_type": "code",
   "execution_count": 38,
   "metadata": {
    "scrolled": false
   },
   "outputs": [
    {
     "name": "stdout",
     "output_type": "stream",
     "text": [
      "[19 21 22 23 24 25 26 27 28 29 30 31 32 33 34 35 36 37 38 39 40 41 42 43 44\n",
      " 45 46 47 48 49 50 51 52 53 54 55 56 57 58 59 60 61 62 63 64 65 66 67 68 69\n",
      " 70 71 72 73 74 75 76 77 78 79 80 81 82 83 84 85 86 87 88 89 90 91 92 93 94\n",
      " 95 96 97 98 99]\n",
      "[ 0  1  2  3  4  5  6  7  8  9 10 11 12 13 14 15 16 17 18 20]\n",
      "Número de instâncias e distribuição de classes no treino do fold 0: 80 Counter({0: 40, 1: 40})\n",
      "Número de instâncias e distribuição de classes no  teste do fold 0: 20 Counter({0: 10, 1: 10})\n",
      "[ 0  1  2  3  4  5  6  7  8  9 10 11 12 13 14 15 16 17 18 20 36 38 39 40 43\n",
      " 45 46 47 48 49 50 51 52 53 54 55 56 57 58 59 60 61 62 63 64 65 66 67 68 69\n",
      " 70 71 72 73 74 75 76 77 78 79 80 81 82 83 84 85 86 87 88 89 90 91 92 93 94\n",
      " 95 96 97 98 99]\n",
      "[19 21 22 23 24 25 26 27 28 29 30 31 32 33 34 35 37 41 42 44]\n",
      "Número de instâncias e distribuição de classes no treino do fold 1: 80 Counter({0: 40, 1: 40})\n",
      "Número de instâncias e distribuição de classes no  teste do fold 1: 20 Counter({0: 10, 1: 10})\n",
      "[ 0  1  2  3  4  5  6  7  8  9 10 11 12 13 14 15 16 17 18 19 20 21 22 23 24\n",
      " 25 26 27 28 29 30 31 32 33 34 35 37 41 42 44 54 58 59 60 61 65 66 67 68 69\n",
      " 70 71 72 73 74 75 76 77 78 79 80 81 82 83 84 85 86 87 88 89 90 91 92 93 94\n",
      " 95 96 97 98 99]\n",
      "[36 38 39 40 43 45 46 47 48 49 50 51 52 53 55 56 57 62 63 64]\n",
      "Número de instâncias e distribuição de classes no treino do fold 2: 80 Counter({0: 40, 1: 40})\n",
      "Número de instâncias e distribuição de classes no  teste do fold 2: 20 Counter({0: 10, 1: 10})\n",
      "[ 0  1  2  3  4  5  6  7  8  9 10 11 12 13 14 15 16 17 18 19 20 21 22 23 24\n",
      " 25 26 27 28 29 30 31 32 33 34 35 36 37 38 39 40 41 42 43 44 45 46 47 48 49\n",
      " 50 51 52 53 55 56 57 62 63 64 73 74 80 83 84 85 86 87 88 89 90 91 92 93 94\n",
      " 95 96 97 98 99]\n",
      "[54 58 59 60 61 65 66 67 68 69 70 71 72 75 76 77 78 79 81 82]\n",
      "Número de instâncias e distribuição de classes no treino do fold 3: 80 Counter({0: 40, 1: 40})\n",
      "Número de instâncias e distribuição de classes no  teste do fold 3: 20 Counter({0: 10, 1: 10})\n",
      "[ 0  1  2  3  4  5  6  7  8  9 10 11 12 13 14 15 16 17 18 19 20 21 22 23 24\n",
      " 25 26 27 28 29 30 31 32 33 34 35 36 37 38 39 40 41 42 43 44 45 46 47 48 49\n",
      " 50 51 52 53 54 55 56 57 58 59 60 61 62 63 64 65 66 67 68 69 70 71 72 75 76\n",
      " 77 78 79 81 82]\n",
      "[73 74 80 83 84 85 86 87 88 89 90 91 92 93 94 95 96 97 98 99]\n",
      "Número de instâncias e distribuição de classes no treino do fold 4: 80 Counter({0: 40, 1: 40})\n",
      "Número de instâncias e distribuição de classes no  teste do fold 4: 20 Counter({0: 10, 1: 10})\n"
     ]
    }
   ],
   "source": [
    "from sklearn.cross_validation import StratifiedKFold  # OU\n",
    "# from sklearn.model_selection import StratifiedKFold  \n",
    "\n",
    "n_folds = 5\n",
    "\n",
    "skf = StratifiedKFold(y, n_folds)\n",
    "for i, (train_index, test_index) in enumerate(skf):\n",
    "    print train_index\n",
    "    print test_index\n",
    "\n",
    "    X_train, X_test = X[train_index], X[test_index]\n",
    "    y_train, y_test = y[train_index], y[test_index]\n",
    "    \n",
    "    print 'Número de instâncias e distribuição de classes no treino do fold %d:' % i, X_train.shape[0], Counter(y_train)\n",
    "    print 'Número de instâncias e distribuição de classes no  teste do fold %d:' % i, X_test.shape[0], Counter(y_test)"
   ]
  },
  {
   "cell_type": "code",
   "execution_count": 27,
   "metadata": {
    "scrolled": false
   },
   "outputs": [
    {
     "name": "stdout",
     "output_type": "stream",
     "text": [
      "Número de instâncias e distribuição de classes no treino do fold 0: 11998 Counter({0: 9142, 1: 2856})\n",
      "Número de instâncias e distribuição de classes no  teste do fold 0: 3001 Counter({0: 9142, 1: 2856})\n",
      "97.4341886038\n",
      "0.974\n",
      "0.026\n",
      "0.987\n",
      "0.03\n",
      "0.97\n",
      "0.912\n",
      "0.238\n",
      "0.948\n",
      "Número de instâncias e distribuição de classes no treino do fold 1: 11998 Counter({0: 9142, 1: 2857})\n",
      "Número de instâncias e distribuição de classes no  teste do fold 1: 3001 Counter({0: 9142, 1: 2857})\n",
      "94.4666666667\n",
      "0.945\n",
      "0.055\n",
      "0.861\n",
      "0.029\n",
      "0.971\n",
      "0.902\n",
      "0.238\n",
      "0.881\n",
      "Número de instâncias e distribuição de classes no treino do fold 2: 11998 Counter({0: 9142, 1: 2857})\n",
      "Número de instâncias e distribuição de classes no  teste do fold 2: 3001 Counter({0: 9142, 1: 2857})\n",
      "95.4333333333\n",
      "0.954\n",
      "0.046\n",
      "0.913\n",
      "0.033\n",
      "0.967\n",
      "0.897\n",
      "0.238\n",
      "0.905\n",
      "Número de instâncias e distribuição de classes no treino do fold 3: 11998 Counter({0: 9143, 1: 2857})\n",
      "Número de instâncias e distribuição de classes no  teste do fold 3: 3001 Counter({0: 9143, 1: 2857})\n",
      "98.0660220073\n",
      "0.981\n",
      "0.019\n",
      "0.978\n",
      "0.018\n",
      "0.982\n",
      "0.943\n",
      "0.238\n",
      "0.96\n",
      "Número de instâncias e distribuição de classes no treino do fold 4: 11998 Counter({0: 9143, 1: 2857})\n",
      "Número de instâncias e distribuição de classes no  teste do fold 4: 3001 Counter({0: 9143, 1: 2857})\n",
      "97.099033011\n",
      "0.971\n",
      "0.029\n",
      "0.987\n",
      "0.034\n",
      "0.966\n",
      "0.9\n",
      "0.238\n",
      "0.941\n"
     ]
    }
   ],
   "source": [
    "import numpy as np\n",
    "import pandas as pd\n",
    "from collections import Counter  # conta e agrupa itens em uma coleção\n",
    "from sklearn.cross_validation import train_test_split\n",
    "from sklearn.metrics.pairwise import euclidean_distances\n",
    "from sklearn.neighbors import KNeighborsClassifier\n",
    "from sklearn.cross_validation import StratifiedKFold\n",
    "from sklearn.metrics import confusion_matrix\n",
    "\n",
    "def getAccuracy(testset, predictions):\n",
    "    correct = 0\n",
    "    for id_test, test in testset.iterrows():\n",
    "        if test[-1] == predictions.ix[id_test][0]:\n",
    "            correct += 1\n",
    "    return (correct / float(len(testset))) * 100.0\n",
    "\n",
    "def main():\n",
    "    rh = pd.read_csv('RHs.csv', nrows=None, header=0, index_col=None)\n",
    "    trainset, testset, = train_test_split(rh, test_size=0.2)\n",
    "\n",
    "    n_folds = 5\n",
    "\n",
    "    f = rh['left']\n",
    "    # print f\n",
    "\n",
    "    skf = StratifiedKFold(rh['left'], n_folds)\n",
    "\n",
    "    for i, (train_index, test_index) in enumerate(skf):\n",
    "    #     print train_index\n",
    "    #     print test_index\n",
    "\n",
    "        trainset = rh.ix[train_index]\n",
    "        testset = rh.ix[test_index]\n",
    "\n",
    "        print 'Número de instâncias e distribuição de classes no treino do fold %d:' % i, X_train.shape[0], Counter(trainset['left'])\n",
    "        print 'Número de instâncias e distribuição de classes no  teste do fold %d:' % i, X_test.shape[0], Counter(trainset['left'])\n",
    "\n",
    "    #     print trainset\n",
    "        predictions = []\n",
    "        k = 2\n",
    "\n",
    "    #     for id_test, test in testset.iterrows():\n",
    "    #         predicted = getNeighbors(trainset, test, k)\n",
    "    #         predictions.append(predicted)\n",
    "    #         # print('> predicted=' + str(predicted) + ', actual=' + str(test[-1]))\n",
    "    #     accuracy = getAccuracy(testset, pd.DataFrame(predictions, index=testset.index.values))\n",
    "    #     print accuracy\n",
    "\n",
    "        knn = KNeighborsClassifier(n_neighbors=k)\n",
    "        knn.fit(trainset.iloc[:, 0:-1], trainset.iloc[:, -1])\n",
    "        predicted_knn = knn.predict(testset.iloc[:, 0:-1])\n",
    "        accuracy = getAccuracy(testset, pd.DataFrame(predicted_knn, index=testset.index.values))\n",
    "        print accuracy\n",
    "        \n",
    "        cm = confusion_matrix(testset.iloc[:, -1], predicted_knn)\n",
    "        tn = float(cm[0][0])\n",
    "        fp = float(cm[0][1])\n",
    "        fn = float(cm[1][0])\n",
    "        tp = float(cm[1][1])\n",
    "        actual_yes = fn+tp\n",
    "        actual_no = tn+fp\n",
    "        predicted_yes = fp+tp\n",
    "        predicted_no = tn+fn\n",
    "        total = float(len(testset))\n",
    "        accuracy_2 = round((tp+tn)/total,3) # Overall, how often is the classifier correct?\n",
    "        print accuracy_2\n",
    "        misclassification_rate = round((fp+fn)/total,3) # Overall, how often is it wrong?\n",
    "        print misclassification_rate\n",
    "        true_positive = round(tp/actual_yes,3) # When it's actually yes, how often does it predict yes?\n",
    "        print true_positive\n",
    "        false_positive = round(fp/actual_no,3) # When it's actually no, how often does it predict yes?\n",
    "        print false_positive\n",
    "        specificity = round(tn/actual_no,3) # When it's actually no, how often does it predict no?\n",
    "        print specificity\n",
    "        precision = round(tp/predicted_yes,3) # When it predicts yes, how often is it correct?\n",
    "        print precision\n",
    "        prevalence = round(actual_yes/total,3) # How often does the yes condition actually occur in our sample?\n",
    "        print prevalence\n",
    "        f1 = round(2 * ((precision * true_positive) / (precision + true_positive)),3)\n",
    "        print f1\n",
    "    \n",
    "main()"
   ]
  }
 ],
 "metadata": {
  "anaconda-cloud": {},
  "kernelspec": {
   "display_name": "Python 2",
   "language": "python",
   "name": "python2"
  },
  "language_info": {
   "codemirror_mode": {
    "name": "ipython",
    "version": 2
   },
   "file_extension": ".py",
   "mimetype": "text/x-python",
   "name": "python",
   "nbconvert_exporter": "python",
   "pygments_lexer": "ipython2",
   "version": "2.7.15"
  }
 },
 "nbformat": 4,
 "nbformat_minor": 1
}
