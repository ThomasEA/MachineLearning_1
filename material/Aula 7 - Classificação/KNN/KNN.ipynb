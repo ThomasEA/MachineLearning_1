{
 "cells": [
  {
   "cell_type": "code",
   "execution_count": 3,
   "metadata": {},
   "outputs": [],
   "source": [
    "# encoding=utf-8\n",
    "from matplotlib import pyplot as plt\n",
    "import numpy as np\n",
    "import pandas as pd\n",
    "from scipy import stats\n",
    "from sklearn.model_selection import train_test_split\n",
    "from sklearn.datasets import load_iris\n",
    "from sklearn.metrics import euclidean_distances"
   ]
  },
  {
   "cell_type": "code",
   "execution_count": 7,
   "metadata": {},
   "outputs": [
    {
     "name": "stdout",
     "output_type": "stream",
     "text": [
      "[[0 1]\n",
      " [2 3]\n",
      " [4 5]\n",
      " [6 7]\n",
      " [8 9]]\n",
      "[1 0 1 0 0]\n"
     ]
    }
   ],
   "source": [
    "a = np.arange(10).reshape((5, 2))\n",
    "b = [[0],[1],[1],[0],[0]]\n",
    "b = np.array([1,0,1,0,0])\n",
    "print a\n",
    "print b"
   ]
  },
  {
   "cell_type": "code",
   "execution_count": 26,
   "metadata": {},
   "outputs": [
    {
     "name": "stdout",
     "output_type": "stream",
     "text": [
      "[[0 1]\n",
      " [2 3]\n",
      " [8 9]\n",
      " [6 7]]\n",
      "[1 0 0 0]\n",
      "[[4 5]]\n",
      "[1]\n"
     ]
    }
   ],
   "source": [
    "x_train, x_test, y_train, y_test = train_test_split(\n",
    "    a, b, test_size=0.2)\n",
    "\n",
    "print x_train\n",
    "print y_train\n",
    "print x_test\n",
    "print y_test"
   ]
  },
  {
   "cell_type": "code",
   "execution_count": 23,
   "metadata": {},
   "outputs": [
    {
     "name": "stdout",
     "output_type": "stream",
     "text": [
      "[1.0, 2.0, 1.0]\n",
      "1.0\n",
      "[2.0, 2.0, 2.0]\n",
      "2.0\n"
     ]
    }
   ],
   "source": [
    "data = load_iris()\n",
    "data = pd.DataFrame(np.hstack((data['data'], data['target'].reshape(data['target'].shape[0], 1))), \n",
    "                    columns=data['feature_names'] + ['class']\n",
    ")\n",
    "\n",
    "X = data[data.columns[:-1]]\n",
    "Y = data[data.columns[-1]]\n",
    "# print Y\n",
    "\n",
    "t1 = np.array([6.1,2.1,4.7,1.3])\n",
    "\n",
    "k = 3\n",
    "dist_x = []\n",
    "\n",
    "for idx, linha in X.iterrows():\n",
    "    dist_x.append((idx, euclidean_distances(linha.values.reshape(1,-1), t1.reshape(1,-1))))\n",
    "    \n",
    "dist_sorted = sorted(dist_x, key=lambda d: d[1])[:k]\n",
    "\n",
    "xx = [Y.iloc[idx] for idx, dist in dist_sorted]\n",
    "\n",
    "print xx\n",
    "\n",
    "print sorted([(classe, xx.count(classe)) \n",
    "        for classe in Y.unique()], key=lambda a: a[1], reverse=True)[0][0]\n",
    "\n",
    "t2 = np.array([6.6,3.1,5.7,2.1])\n",
    "\n",
    "k = 3\n",
    "dist_x = []\n",
    "\n",
    "for idx, linha in X.iterrows():\n",
    "    dist_x.append((idx, euclidean_distances(linha.values.reshape(1,-1), t2.reshape(1,-1))))\n",
    "    \n",
    "dist_sorted = sorted(dist_x, key=lambda d: d[1])[:k]\n",
    "\n",
    "xx = [Y.iloc[idx] for idx, dist in dist_sorted]\n",
    "\n",
    "print xx\n",
    "\n",
    "print sorted([(classe, xx.count(classe)) \n",
    "        for classe in Y.unique()], key=lambda a: a[1], reverse=True)[0][0]\n",
    "\n",
    "\n"
   ]
  },
  {
   "cell_type": "code",
   "execution_count": 34,
   "metadata": {
    "scrolled": false
   },
   "outputs": [
    {
     "name": "stderr",
     "output_type": "stream",
     "text": [
      "C:\\ProgramData\\Anaconda2\\lib\\site-packages\\ipykernel_launcher.py:12: DeprecationWarning: \n",
      ".ix is deprecated. Please use\n",
      ".loc for label based indexing or\n",
      ".iloc for positional indexing\n",
      "\n",
      "See the documentation here:\n",
      "http://pandas.pydata.org/pandas-docs/stable/indexing.html#ix-indexer-is-deprecated\n",
      "  if sys.path[0] == '':\n"
     ]
    },
    {
     "name": "stdout",
     "output_type": "stream",
     "text": [
      "100.0\n"
     ]
    },
    {
     "name": "stderr",
     "output_type": "stream",
     "text": [
      "C:\\ProgramData\\Anaconda2\\lib\\site-packages\\ipykernel_launcher.py:19: DeprecationWarning: \n",
      ".ix is deprecated. Please use\n",
      ".loc for label based indexing or\n",
      ".iloc for positional indexing\n",
      "\n",
      "See the documentation here:\n",
      "http://pandas.pydata.org/pandas-docs/stable/indexing.html#ix-indexer-is-deprecated\n"
     ]
    }
   ],
   "source": [
    "import numpy as np\n",
    "import pandas as pd\n",
    "from sklearn.model_selection import train_test_split\n",
    "from sklearn.metrics.pairwise import euclidean_distances\n",
    "\n",
    "def getNeighbors(trainset, test, k):\n",
    "    dist_test = []\n",
    "    for id_train, train in trainset.iterrows():\n",
    "        t = np.array(train[0:4])\n",
    "        dist_test.append((id_train, euclidean_distances(t.reshape(1, -1), test[0:4].values.reshape(1, -1))))\n",
    "    dist_sorted = sorted(dist_test, key=lambda d: d[1])[:k]\n",
    "    xx = [trainset.ix[id_dist]['c'] for id_dist, dist in dist_sorted]\n",
    "    return sorted([(classe, xx.count(classe)) \n",
    "                   for classe in trainset['c'].unique()], key=lambda a: a[1], reverse=True)[0][0]\n",
    "\n",
    "def getAccuracy(testset, predictions):\n",
    "    correct = 0\n",
    "    for id_test, test in testset.iterrows():\n",
    "        if test[-1] == predictions.ix[id_test][0]:\n",
    "            correct += 1\n",
    "    return (correct / float(len(testset))) * 100.0\n",
    "\n",
    "def main():\n",
    "    iris = pd.read_csv('iris.data', nrows=None, header=None, index_col=None)\n",
    "    iris.reset_index()\n",
    "    iris.columns = ['sl', 'sw', 'pl', 'pw', 'c']\n",
    "    trainset, testset, = train_test_split(iris, test_size=0.2)\n",
    "    predictions = []\n",
    "    k = 9\n",
    "    for id_test, test in testset.iterrows():\n",
    "        predicted = getNeighbors(trainset, test, k)\n",
    "        predictions.append(predicted)\n",
    "        # print('> predicted=' + str(predicted) + ', actual=' + str(test[-1]))\n",
    "    accuracy = getAccuracy(testset, pd.DataFrame(predictions, index=testset.index.values))\n",
    "    print accuracy\n",
    "main()"
   ]
  },
  {
   "cell_type": "code",
   "execution_count": 38,
   "metadata": {},
   "outputs": [
    {
     "name": "stdout",
     "output_type": "stream",
     "text": [
      "['Iris-versicolor' 'Iris-setosa' 'Iris-versicolor' 'Iris-versicolor'\n",
      " 'Iris-versicolor' 'Iris-virginica' 'Iris-setosa' 'Iris-versicolor'\n",
      " 'Iris-virginica' 'Iris-setosa' 'Iris-versicolor' 'Iris-versicolor'\n",
      " 'Iris-versicolor' 'Iris-virginica' 'Iris-versicolor' 'Iris-setosa'\n",
      " 'Iris-versicolor' 'Iris-setosa' 'Iris-versicolor' 'Iris-virginica'\n",
      " 'Iris-setosa' 'Iris-setosa' 'Iris-setosa' 'Iris-virginica'\n",
      " 'Iris-versicolor' 'Iris-virginica' 'Iris-setosa' 'Iris-versicolor'\n",
      " 'Iris-setosa' 'Iris-virginica']\n",
      "75     Iris-versicolor\n",
      "3          Iris-setosa\n",
      "78     Iris-versicolor\n",
      "106     Iris-virginica\n",
      "86     Iris-versicolor\n",
      "140     Iris-virginica\n",
      "5          Iris-setosa\n",
      "97     Iris-versicolor\n",
      "108     Iris-virginica\n",
      "42         Iris-setosa\n",
      "82     Iris-versicolor\n",
      "87     Iris-versicolor\n",
      "133     Iris-virginica\n",
      "105     Iris-virginica\n",
      "60     Iris-versicolor\n",
      "35         Iris-setosa\n",
      "51     Iris-versicolor\n",
      "28         Iris-setosa\n",
      "61     Iris-versicolor\n",
      "131     Iris-virginica\n",
      "32         Iris-setosa\n",
      "14         Iris-setosa\n",
      "46         Iris-setosa\n",
      "111     Iris-virginica\n",
      "74     Iris-versicolor\n",
      "70     Iris-versicolor\n",
      "43         Iris-setosa\n",
      "71     Iris-versicolor\n",
      "2          Iris-setosa\n",
      "126     Iris-virginica\n",
      "Name: 4, dtype: object\n"
     ]
    }
   ],
   "source": [
    "#EXEMPLO IMPORTANDO\n",
    "from sklearn.neighbors import KNeighborsClassifier\n",
    "\n",
    "iris = pd.read_csv('iris.data', nrows=None, header=None, index_col=None)\n",
    "\n",
    "trainset, testset, = train_test_split(iris, test_size=0.2)\n",
    "\n",
    "knn = KNeighborsClassifier(n_neighbors=k)\n",
    "knn.fit(trainset.iloc[:, 0:-1], trainset.iloc[:, -1])\n",
    "predicted_knn = knn.predict(testset.iloc[:, 0:-1])\n",
    "print predicted_knn\n",
    "print testset.iloc[:, -1]"
   ]
  },
  {
   "cell_type": "code",
   "execution_count": 9,
   "metadata": {},
   "outputs": [
    {
     "name": "stdout",
     "output_type": "stream",
     "text": [
      "76.1904761905\n",
      "76.1904761905\n"
     ]
    }
   ],
   "source": [
    "import numpy as np\n",
    "import pandas as pd\n",
    "from sklearn.cross_validation import train_test_split\n",
    "from sklearn.metrics.pairwise import euclidean_distances\n",
    "from sklearn.neighbors import KNeighborsClassifier\n",
    "\n",
    "def getNeighbors(trainset, test, k):\n",
    "    dist_test = []\n",
    "    for id_train, train in trainset.iterrows():\n",
    "        t = np.array(train[:-1])\n",
    "        dist_test.append((id_train, euclidean_distances(t.reshape(1, -1), test[:-1].reshape(1, -1))))\n",
    "    dist_sorted = sorted(dist_test, key=lambda d: d[1])[:k]\n",
    "    xx = [trainset.ix[id_dist]['classe'] for id_dist, dist in dist_sorted]\n",
    "    return sorted([(classe, xx.count(classe)) for classe in trainset['classe'].unique()], key=lambda a: a[1], reverse=True)[0][0]\n",
    "\n",
    "def getAccuracy(testset, predictions):\n",
    "    correct = 0\n",
    "    for id_test, test in testset.iterrows():\n",
    "        if test[-1] == predictions.ix[id_test][0]:\n",
    "            correct += 1\n",
    "    return (correct / float(len(testset))) * 100.0\n",
    "\n",
    "\n",
    "def main():\n",
    "    # prepare data\n",
    "    zoo = pd.read_csv('zoo.csv', nrows=None, header=0, index_col=0)\n",
    "    trainset, testset, = train_test_split(zoo, test_size=0.2)\n",
    "\n",
    "    predictions = []\n",
    "    k = 2\n",
    "\n",
    "    for id_test, test in testset.iterrows():\n",
    "        predicted = getNeighbors(trainset, test, k)\n",
    "        predictions.append(predicted)\n",
    "        # print('> predicted=' + str(predicted) + ', actual=' + str(test[-1]))\n",
    "    accuracy = getAccuracy(testset, pd.DataFrame(predictions, index=testset.index.values))\n",
    "    print accuracy\n",
    "\n",
    "    knn = KNeighborsClassifier(n_neighbors=k)\n",
    "    knn.fit(trainset.iloc[:, 0:-1], trainset.iloc[:, -1])\n",
    "    predicted_knn = knn.predict(testset.iloc[:, 0:-1])\n",
    "    accuracy = getAccuracy(testset, pd.DataFrame(predicted_knn, index=testset.index.values))\n",
    "    print accuracy\n",
    "\n",
    "main()"
   ]
  }
 ],
 "metadata": {
  "kernelspec": {
   "display_name": "Python 2",
   "language": "python",
   "name": "python2"
  },
  "language_info": {
   "codemirror_mode": {
    "name": "ipython",
    "version": 2
   },
   "file_extension": ".py",
   "mimetype": "text/x-python",
   "name": "python",
   "nbconvert_exporter": "python",
   "pygments_lexer": "ipython2",
   "version": "2.7.15"
  }
 },
 "nbformat": 4,
 "nbformat_minor": 1
}
